{
  "nbformat": 4,
  "nbformat_minor": 0,
  "metadata": {
    "colab": {
      "name": "text_generation.ipynb",
      "provenance": [],
      "collapsed_sections": [],
      "authorship_tag": "ABX9TyNae5A/lUSqLsxyi5yTs9XY",
      "include_colab_link": true
    },
    "kernelspec": {
      "name": "python3",
      "display_name": "Python 3"
    }
  },
  "cells": [
    {
      "cell_type": "markdown",
      "metadata": {
        "id": "view-in-github",
        "colab_type": "text"
      },
      "source": [
        "<a href=\"https://colab.research.google.com/github/DelmiroDaladier/NLP-studies/blob/master/text_generation(Pytorch)/text_generation.ipynb\" target=\"_parent\"><img src=\"https://colab.research.google.com/assets/colab-badge.svg\" alt=\"Open In Colab\"/></a>"
      ]
    },
    {
      "cell_type": "code",
      "metadata": {
        "colab": {
          "base_uri": "https://localhost:8080/"
        },
        "id": "oTXD1dF94aLm",
        "outputId": "c4b93ca9-4cf0-40ef-bb54-263f54266d35"
      },
      "source": [
        "!pip install unidecode"
      ],
      "execution_count": 91,
      "outputs": [
        {
          "output_type": "stream",
          "text": [
            "Requirement already satisfied: unidecode in /usr/local/lib/python3.6/dist-packages (1.1.2)\n"
          ],
          "name": "stdout"
        }
      ]
    },
    {
      "cell_type": "code",
      "metadata": {
        "id": "r9LdM8-U5bn7"
      },
      "source": [
        "import unidecode\n",
        "import string\n",
        "import random\n",
        "import re\n",
        "\n",
        "import nltk\n",
        "from nltk.corpus import machado\n",
        "\n",
        "import torch\n",
        "import torch.nn as nn\n",
        "from torch.autograd import Variable"
      ],
      "execution_count": 92,
      "outputs": []
    },
    {
      "cell_type": "code",
      "metadata": {
        "colab": {
          "base_uri": "https://localhost:8080/"
        },
        "id": "9m2RbM1I5kUq",
        "outputId": "9bdacd97-533b-4bcb-f6b7-c29dfd46e9d1"
      },
      "source": [
        "nltk.download('machado')"
      ],
      "execution_count": 93,
      "outputs": [
        {
          "output_type": "stream",
          "text": [
            "[nltk_data] Downloading package machado to /root/nltk_data...\n",
            "[nltk_data]   Package machado is already up-to-date!\n"
          ],
          "name": "stdout"
        },
        {
          "output_type": "execute_result",
          "data": {
            "text/plain": [
              "True"
            ]
          },
          "metadata": {
            "tags": []
          },
          "execution_count": 93
        }
      ]
    },
    {
      "cell_type": "code",
      "metadata": {
        "colab": {
          "base_uri": "https://localhost:8080/",
          "height": 127
        },
        "id": "QEFq2kdx5l4z",
        "outputId": "7d8109c8-19cb-41b6-b174-2fb6f9ef05ed"
      },
      "source": [
        "raw_text = machado.raw('contos/macn001.txt')\n",
        "raw_text = raw_text.split('\\n\\nCAPÍTULO PRIMEIRO\\n\\n')[1]\n",
        "raw_text"
      ],
      "execution_count": 94,
      "outputs": [
        {
          "output_type": "execute_result",
          "data": {
            "application/vnd.google.colaboratory.intrinsic+json": {
              "type": "string"
            },
            "text/plain": [
              "\"Era conveniente ao romance que o leitor\\nficasse muito tempo sem saber quem era Miss Dollar. Mas por outro lado,\\nsem a apresentação de Miss Dollar, seria o autor obrigado a longas\\ndigressões, que encheriam o papel sem adiantar a ação. Não há hesitação\\npossível: vou apresentar-lhes Miss Dollar.\\n\\nSe o leitor é rapaz e dado ao gênio\\nmelancólico, imagina que Miss Dollar é uma inglesa pálida e delgada,\\nescassa de carnes e de sangue, abrindo à flor do rosto dois grandes olhos azuis\\ne sacudindo ao vento umas longas tranças loiras. A moça em questão deve ser\\nvaporosa e ideal como uma criação de Shakespeare; deve ser o contraste do roastbeef\\nbritânico, com que se alimenta a liberdade do Reino Unido. Uma tal Miss\\nDollar deve ter o poeta Tennyson de cor e ler Lamartine no original; se\\nsouber o português deve deliciar-se com a leitura dos sonetos de Camões ou os Cantos\\nde Gonçalves Dias. O chá e o leite devem ser a alimentação de semelhante\\ncriatura, adicionando-se-lhe alguns confeitos e biscoitos para acudir às\\nurgências do estômago. A sua fala deve ser um murmúrio de harpa eólia; o seu\\namor um desmaio, a sua vida uma contemplação, a sua morte um suspiro.\\n\\nA figura é poética, mas não é a da\\nheroína do romance.\\n\\nSuponhamos que o leitor não é dado a\\nestes devaneios e melancolias; nesse caso imagina uma Miss Dollar totalmente\\ndiferente da outra. Desta vez será uma robusta americana, vertendo sangue pelas\\nfaces, formas arredondadas, olhos vivos e ardentes, mulher feita, refeita e\\nperfeita. Amiga da boa mesa e do bom copo, esta Miss Dollar preferirá um\\nquarto de carneiro a uma página de Longfellow, coisa naturalíssima quando o\\nestômago reclama, e nunca chegará a compreender a poesia do pôr-do-sol. Será\\numa boa mãe de família segundo a doutrina de alguns padres-mestres da\\ncivilização, isto é, fecunda e ignorante.\\n\\nJá não será do mesmo sentir o leitor que\\ntiver passado a segunda mocidade e vir diante de si uma velhice sem recurso.\\nPara esse, a Miss Dollar verdadeiramente digna de ser contada em algumas\\npáginas, seria uma boa inglesa de cinqüenta anos, dotada com algumas mil libras\\nesterlinas, e que, aportando ao Brasil em procura de assunto para escrever um romance,\\nrealizasse um romance verdadeiro, casando com o leitor aludido. Uma tal Miss\\nDollar seria incompleta se não tivesse óculos verdes e um grande cacho de\\ncabelo grisalho em cada fonte. Luvas de renda branca e chapéu de linho em forma\\nde cuia, seriam a última demão deste magnífico tipo de ultramar.\\n\\nMais esperto que os outros, acode um\\nleitor dizendo que a heroína do romance não é nem foi inglesa, mas brasileira\\ndos quatro costados, e que o nome de Miss Dollar quer dizer simplesmente\\nque a rapariga é rica.\\n\\nA descoberta seria excelente, se fosse\\nexata; infelizmente nem esta nem as outras são exatas. A Miss Dollar do\\nromance não é a menina romântica, nem a mulher robusta, nem a velha literata,\\nnem a brasileira rica. Falha desta vez a proverbial perspicácia dos leitores; Miss\\nDollar é uma cadelinha galga.\\n\\nPara algumas pessoas a qualidade da\\nheroína fará perder o interesse do romance. Erro manifesto. Miss Dollar,\\napesar de não ser mais que uma cadelinha galga, teve as honras de ver o seu\\nnome nos papéis públicos, antes de entrar para este livro. O Jornal do\\nComércio e o Correio Mercantil publicaram nas colunas dos anúncios\\nas seguintes linhas reverberantes de promessa:\\n\\nDesencaminhou-se uma cadelinha galga, na\\nnoite de ontem, 30. Acode ao nome de Miss Dollar. Quem a achou e quiser\\nlevar à Rua de Mata-cavalos no..., receberá duzentos mil-réis de\\nrecompensa. Miss Dollar tem uma coleira ao pescoço fechada por um\\ncadeado em que se lêem as seguintes palavras: De tout mon coeur.\\n\\nTodas as pessoas que sentiam necessidade\\nurgente de duzentos mil-réis, e tiveram a felicidade de ler aquele anúncio,\\nandaram nesse dia com extremo cuidado nas ruas do Rio de Janeiro, a ver se\\ndavam com a fugitiva Miss Dollar. Galgo que aparecesse ao longe era\\nperseguido com tenacidade até verificar-se que não era o animal procurado. Mas\\ntoda esta caçada dos duzentos mil-réis era completamente inútil, visto que, no\\ndia em que apareceu o anúncio, já Miss Dollar estava aboletada na casa\\nde um sujeito morador nos Cajueiros que fazia coleção de cães.\\n\\nCAPÍTULO II\\n\\nQuais as razões que induziram o Dr.\\nMendonça a fazer coleção de cães, é coisa que ninguém podia dizer; uns queriam\\nque fosse simplesmente paixão por esse símbolo da fidelidade ou do servilismo;\\noutros pensavam antes que, cheio de profundo desgosto pelos homens, Mendonça\\nachou que era de boa guerra adorar os cães.\\n\\nFossem quais fossem as razões, o certo é\\nque ninguém possuía mais bonita e variada coleção do que ele. Tinha-os de todas\\nas raças, tamanhos e cores. Cuidava deles como se fossem seus filhos; se algum\\nlhe morria ficava melancólico. Quase se pode dizer que, no espírito de\\nMendonça, o cão pesava tanto como o amor, segundo uma expressão célebre: tirai\\ndo mundo o cão, e o mundo será um ermo.\\n\\nO leitor superficial conclui daqui que o\\nnosso Mendonça era um homem excêntrico. Não era. Mendonça era um homem como os\\noutros; gostava de cães como outros gostam de flores. Os cães eram as suas\\nrosas e violetas; cultivava-os com o mesmíssimo esmero. De flores gostava\\ntambém; mas gostava delas nas plantas em que nasciam: cortar um jasmim ou\\nprender um canário parecia-lhe idêntico atentado.\\n\\nEra o Dr. Mendonça homem de seus trinta e\\nquatro anos, bem apessoado, maneiras francas e distintas. Tinha-se formado em\\nmedicina e tratou algum tempo de doentes; a clínica estava já adiantada quando\\nsobreveio uma epidemia na capital; o Dr. Mendonça inventou um elixir contra a\\ndoença; e tão excelente era o elixir, que o autor ganhou um bom par de contos\\nde réis. Agora exercia a medicina como amador. Tinha quanto bastava para si e a\\nfamília. A família compunha-se dos animais citados acima.\\n\\nNa memorável noite em que se\\ndesencaminhou Miss Dollar, voltava Mendonça para casa quando teve a\\nventura de encontrar a fugitiva no Rocio. A cadelinha entrou a acompanhá-lo, e\\nele, notando que era animal sem dono visível, levou-a consigo para os\\nCajueiros.\\n\\nApenas entrou em casa examinou\\ncuidadosamente a cadelinha, Miss Dollar era realmente um mimo; tinha as\\nformas delgadas e graciosas da sua fidalga raça; os olhos castanhos e\\naveludados pareciam exprimir a mais completa felicidade deste mundo, tão\\nalegres e serenos eram. Mendonça contemplou-a e examinou minuciosamente. Leu o\\ndístico do cadeado que fechava a coleira, e convenceu-se finalmente de que a\\ncadelinha era animal de grande estimação da parte de quem quer que fosse dono\\ndela.\\n\\n\\x97 Se não aparecer o dono, fica comigo,\\ndisse ele entregando Miss Dollar ao moleque encarregado dos cães.\\n\\nTratou o moleque de dar comida a Miss\\nDollar, enquanto Mendonça planeava um bom futuro à nova hóspede, cuja\\nfamília devia perpetuar-se na casa.\\n\\nO plano de Mendonça durou o que duram os\\nsonhos: o espaço de uma noite. No dia seguinte, lendo os jornais, viu o anúncio\\ntranscrito acima, prometendo duzentos mil-réis a quem entregasse a cadelinha\\nfugitiva. A sua paixão pelos cães deu-lhe a medida da dor que devia sofrer o\\ndono ou dona de Miss Dollar, visto que chegava a oferecer duzentos\\nmil-réis de gratificação a quem apresentasse a galga. Conseqüentemente resolveu\\nrestituí-la, com bastante mágoa do coração. Chegou a hesitar por alguns\\ninstantes; mas afinal venceram os sentimentos de probidade e compaixão, que\\neram o apanágio daquela alma. E, como se lhe custasse despedir-se do animal,\\nainda recente na casa, dispôs-se a levá-lo ele mesmo, e para esse fim\\npreparou-se. Almoçou, e depois de averiguar bem se Miss Dollar havia\\nfeito a mesma operação, saíram ambos de casa com direção a Mata-cavalos.\\n\\nNaquele tempo ainda o Barão do Amazonas\\nnão tinha salvo a independência das repúblicas platinas mediante a vitória de\\nRiachuelo, nome com que depois a Câmara Municipal crismou a Rua de\\nMata-cavalos. Vigorava, portanto, o nome tradicional da rua, que não queria\\ndizer coisa nenhuma de jeito.\\n\\nA casa que tinha o número indicado no\\nanúncio era de bonita aparência e indicava certa abastança nos haveres de quem\\nlá morasse. Antes mesmo que Mendonça batesse palmas no corredor, já Miss\\nDollar, reconhecendo os pátrios lares, começava a pular de contente e a\\nsoltar uns sons alegres e guturais que, se houvesse entre os cães literatura,\\ndeviam ser um hino de ação de graças.\\n\\nVeio um moleque saber quem estava;\\nMendonça disse que vinha restituir a galga fugitiva. Expansão do rosto do\\nmoleque, que correu a anunciar a boa nova. Miss Dollar, aproveitando uma\\nfresta, precipitou-se pelas escadas acima. Dispunha-se Mendonça a descer, pois\\nestava cumprida a sua tarefa, quando o moleque voltou dizendo-lhe que subisse e\\nentrasse para a sala.\\n\\nNa sala não havia ninguém. Algumas\\npessoas, que têm salas elegantemente dispostas, costumam deixar tempo de serem\\nestas admiradas pelas visitas, antes de as virem cumprimentar. É possível que\\nesse fosse o costume dos donos daquela casa, mas desta vez não se cuidou em\\nsemelhante coisa, porque mal o médico entrou pela porta do corredor surgiu de\\noutra interior uma velha com Miss Dollar nos braços e a alegria no\\nrosto.\\n\\n\\x97 Queira ter a bondade de sentar-se,\\ndisse ela designando uma cadeira à Mendonça.\\n\\n\\x97 A minha demora é pequena, disse o\\nmédico sentando-se. Vim trazer-lhe a cadelinha que está comigo desde ontem...\\n\\n\\x97 Não imagina que desassossego causou cá\\nem casa a ausência de Miss Dollar...\\n\\n\\x97 Imagino, minha senhora; eu também sou\\napreciador de cães, e se me faltasse um sentiria profundamente. A sua Miss\\nDollar...\\n\\n\\x97 Perdão! interrompeu a velha; minha não;\\nMiss Dollar não é minha, é de minha sobrinha.\\n\\n\\x97 Ah!...\\n\\n\\x97 Ela aí vem.\\n\\nMendonça levantou-se justamente quando\\nentrava na sala a sobrinha em questão. Era uma moça que representava vinte e\\noito anos, no pleno desenvolvimento da sua beleza, uma dessas mulheres que\\nanunciam velhice tardia e imponente. O vestido de seda escura dava singular\\nrealce à cor imensamente branca da sua pele. Era roçagante o vestido, o que lhe\\naumentava a majestade do porte e da estatura. O corpinho do vestido cobria-lhe\\ntodo o colo; mas adivinhava-se por baixo da seda um belo tronco de mármore\\nmodelado por escultor divino. Os cabelos castanhos e naturalmente ondeados estavam\\npenteados com essa simplicidade caseira, que é a melhor de todas as modas\\nconhecidas; ornavam-lhe graciosamente a fronte como uma coroa doada pela\\nnatureza. A extrema brancura da pele não tinha o menor tom cor-de-rosa que lhe\\nfizesse harmonia e contraste. A boca era pequena, e tinha uma certa expressão\\nimperiosa. Mas a grande distinção daquele rosto, aquilo que mais prendia os\\nolhos, eram os olhos; imaginem duas esmeraldas nadando em leite.\\n\\nMendonça nunca vira olhos verdes em toda\\na sua vida; disseram-lhe que existiam olhos verdes, ele sabia de cor uns versos\\ncélebres de Gonçalves Dias; mas até então os olhos verdes eram para ele a mesma\\ncoisa que a fênix dos antigos. Um dia, conversando com uns amigos a propósito\\ndisto, afirmava que se alguma vez encontrasse um par de olhos verdes fugiria\\ndeles com terror.\\n\\n\\x97 Por quê? perguntou-lhe um dos\\ncircunstantes admirado.\\n\\n\\x97 A cor verde é a cor do mar, respondeu\\nMendonça; evito as tempestades de um; evitarei as tempestades dos outros.\\n\\nEu deixo ao critério do leitor esta\\nsingularidade de Mendonça, que de mais a mais é preciosa, no sentido de\\nMolière.\\n\\nCAPÍTULO III\\n\\nMendonça cumprimentou respeitosamente a\\nrecém-chegada, e esta, com um gesto, convidou-o a sentar-se outra vez.\\n\\n\\x97 Agradeço-lhe infinitamente o ter-me\\nrestituído este pobre animal, que me merece grande estima, disse Margarida\\nsentando-se.\\n\\n\\x97 E eu dou graças a Deus por tê-lo\\nachado; podia ter caído em mãos que o não restituíssem.\\n\\nMargarida fez um gesto a Miss Dollar,\\ne a cadelinha, saltando do regaço da velha, foi ter com Margarida; levantou as\\npatas dianteiras e pôs-lhas sobre os joelhos; Margarida e Miss Dollar\\ntrocaram um longo olhar de afeto. Durante esse tempo uma das mãos da moça\\nbrincava com uma das orelhas da galga, e dava assim lugar a que Mendonça\\nadmirasse os seus belíssimos dedos armados com unhas agudíssimas.\\n\\nMas, conquanto Mendonça tivesse sumo\\nprazer em estar ali, reparou que era esquisita e humilhante a sua demora.\\nPareceria estar esperando a gratificação. Para escapar a essa interpretação\\ndesairosa, sacrificou o prazer da conversa e a contemplação da moça;\\nlevantou-se dizendo:\\n\\n\\x97 A minha missão está cumprida...\\n\\n\\x97 Mas... interrompeu a velha.\\n\\nMendonça compreendeu a ameaça da\\ninterrupção da velha.\\n\\n\\x97 A alegria, disse ele, que restituí a\\nesta casa é a maior recompensa que eu podia ambicionar. Agora peço-lhes\\nlicença...\\n\\nAs duas senhoras compreenderam a intenção\\nde Mendonça; a moça pagou-lhe a cortesia com um sorriso; e a velha, reunindo no\\npulso quantas forças ainda lhe restavam pelo corpo todo, apertou com amizade\\na mão do rapaz.\\n\\nMendonça saiu impressionado pela\\ninteressante Margarida. Notava-lhe principalmente, além da beleza, que era de\\nprimeira água, certa severidade triste no olhar e nos modos. Se aquilo era\\ncaráter da moça, dava-se bem com a índole de médico; se era resultado de algum\\nepisódio da vida, era uma página do romance que devia ser decifrada por olhos\\nhábeis. A falar verdade, o único defeito que Mendonça lhe achou foi a cor dos olhos,\\nnão porque a cor fosse feia, mas porque ele tinha prevenção contra os olhos\\nverdes. A prevenção, cumpre dizê-lo, era mais literária que outra coisa;\\nMendonça apegava-se à frase que uma vez proferira, e foi acima citada, e a\\nfrase é que lhe produziu a prevenção. Não mo acusem de chofre; Mendonça era\\nhomem inteligente, instruído e dotado de bom senso; tinha, além disso, grande\\ntendência para as afeições românticas; mas apesar disso lá tinha calcanhar o\\nnosso Aquiles. Era homem como os outros, outros Aquiles andam por aí que são da\\ncabeça aos pés um imenso calcanhar. O ponto vulnerável de Mendonça era esse; o\\namor de uma frase era capaz de violentar-lhe afetos; sacrificava uma situação a\\num período arredondado.\\n\\nReferindo a um amigo o episódio da galga\\ne a entrevista com Margarida, Mendonça disse que poderia vir a gostar dela se\\nnão tivesse olhos verdes. O amigo riu com certo ar de sarcasmo.\\n\\n\\x97 Mas, doutor, disse-lhe ele, não\\ncompreendo essa prevenção; eu ouço até dizer que os olhos verdes são de\\nordinário núncios de boa alma. Além de que, a cor dos olhos não vale nada, a\\nquestão é a expressão deles. Podem ser azuis como o céu e pérfidos como o mar.\\n\\nA observação deste amigo anônimo tinha a\\nvantagem de ser tão poética como a de Mendonça. Por isso abalou profundamente o\\nânimo do médico. Não ficou este como o asno de Buridan entre a selha d\\x92água e a\\nquarta de cevada; o asno hesitaria, Mendonça não hesitou. Acudiu-lhe de pronto\\na lição do casuísta Sánchez, e das duas opiniões tomou a que lhe pareceu provável.\\n\\nAlgum leitor grave achará pueril esta\\ncircunstância dos olhos verdes e esta controvérsia sobre a qualidade provável\\ndeles. Provará com isso que tem pouca prática do mundo. Os almanaques\\npitorescos citam até à saciedade mil excentricidades e senões dos grandes\\nvarões que a humanidade admira, já por instruídos nas letras, já por valentes\\nnas armas; e nem por isso deixamos de admirar esses mesmos varões. Não queira o\\nleitor abrir uma exceção só para encaixar nela o nosso doutor. Aceitemo-lo com\\nos seus ridículos; quem os não tem? O ridículo é uma espécie de lastro da alma\\nquando ela entra no mar da vida; algumas fazem toda a navegação sem outra\\nespécie de carregamento.\\n\\nPara compensar essas fraquezas, já disse\\nque Mendonça tinha qualidades não vulgares. Adotando a opinião que lhe pareceu\\nmais provável, que foi a do amigo, Mendonça disse consigo que nas mãos de\\nMargarida estava talvez a chave do seu futuro. Ideou nesse sentido um plano de\\nfelicidade; uma casa num ermo, olhando para o mar ao lado do ocidente, a fim de\\npoder assistir ao espetáculo do pôr-do-sol. Margarida e ele, unidos pelo amor e\\npela Igreja, beberiam ali, gota a gota, a taça inteira da celeste felicidade. O\\nsonho de Mendonça continha outras particularidades que seria ocioso mencionar\\naqui. Mendonça pensou nisto alguns dias; chegou a passar algumas vezes por\\nMata-cavalos; mas tão infeliz que nunca viu Margarida nem a tia; afinal\\ndesistiu da empresa e voltou aos cães.\\n\\nA coleção de cães era uma verdadeira\\ngaleria de homens ilustres. O mais estimado deles chamava-se Diógenes;\\nhavia um galgo que acudia ao nome de César; um cão d\\x92água que se chamava\\nNelson; Cornélia chamava-se uma cadelinha rateira, e Calígula\\num enorme cão de fila, vera-efígie do grande monstro que a sociedade romana\\nproduziu. Quando se achava entre toda essa gente, ilustre por diferentes\\ntítulos, dizia Mendonça que entrava na história; era assim que se esquecia do\\nresto do mundo.\\n\\nCAPÍTULO IV\\n\\nAchava-se Mendonça uma vez à porta do\\nCarceller, onde acabava de tomar sorvete em companhia de um indivíduo, amigo\\ndele, quando viu passar um carro, e dentro do carro duas senhoras que lhe\\npareceram as senhoras de Mata-cavalos. Mendonça fez um movimento de espanto que\\nnão escapou ao amigo.\\n\\n\\x97 Que foi? perguntou-lhe este.\\n\\n\\x97 Nada; pareceu-me conhecer aquelas\\nsenhoras. Viste-as, Andrade?\\n\\n\\x97 Não.\\n\\nO carro entrara na Rua do Ouvidor; os\\ndois subiram pela mesma rua. Logo acima da Rua da Quitanda, parara o carro à\\nporta de uma loja, e as senhoras apearam-se e entraram. Mendonça não as viu\\nsair; mas viu o carro e suspeitou que fosse o mesmo. Apressou o passo sem dizer\\nnada a Andrade, que fez o mesmo, movido por essa natural curiosidade que sente\\num homem quando percebe algum segredo oculto.\\n\\nPoucos instantes depois estavam à porta\\nda loja; Mendonça verificou que eram as duas senhoras de Mata-cavalos. Entrou\\nafoito, com ar de quem ia comprar alguma coisa, e aproximou-se das senhoras. A\\nprimeira que o conheceu foi a tia. Mendonça cumprimentou-as respeitosamente.\\nElas receberam o cumprimento com afabilidade. Ao pé de Margarida estava Miss\\nDollar, que, por esse admirável faro que a natureza concedeu aos cães e aos\\ncortesãos da fortuna, deu dois saltos de alegria apenas viu Mendonça, chegando\\na tocar-lhe o estômago com as patas dianteiras.\\n\\n\\x97 Parece que Miss Dollar ficou com\\nboas recordações suas, disse D. Antônia (assim se chamava a tia de Margarida).\\n\\n\\x97 Creio que sim, respondeu Mendonça\\nbrincando com a galga e olhando para Margarida.\\n\\nJustamente nesse momento entrou Andrade.\\n\\n\\x97 Só agora as reconheci, disse ele\\ndirigindo-se às senhoras.\\n\\nAndrade apertou a mão das duas senhoras,\\nou antes apertou a mão de Antônia e os dedos de Margarida.\\n\\nMendonça não contava com este incidente,\\ne alegrou-se com ele por ter à mão o meio de tornar íntimas as relações\\nsuperficiais que tinha com a família.\\n\\n\\x97 Seria bom, disse ele a Andrade, que me\\napresentasses a estas senhoras.\\n\\n\\x97 Pois não as conheces? perguntou Andrade\\nestupefato.\\n\\n\\x97 Conhece-nos sem nos conhecer, respondeu\\nsorrindo a velha tia; por ora quem o apresentou foi Miss Dollar.\\n\\nAntônia referiu a Andrade a perda e o\\nachado da cadelinha.\\n\\n\\x97 Pois, nesse caso, respondeu Andrade,\\napresento-o já.\\n\\nFeita a apresentação oficial, o caixeiro trouxe\\na Margarida os objetos que ela havia comprado, e as duas senhoras despediram-se\\ndos rapazes pedindo-lhes que as fossem ver.\\n\\nNão citei nenhuma palavra de Margarida no\\ndiálogo acima transcrito, porque, a falar verdade, a moça só proferiu duas\\npalavras a cada um dos rapazes.\\n\\n\\x97 Passe bem, disse-lhes ela dando as\\npontas dos dedos e saindo para entrar no carro.\\n\\nFicando sós, saíram também os dois\\nrapazes e seguiram pela Rua do Ouvidor acima, ambos calados. Mendonça pensava\\nem Margarida; Andrade pensava nos meios de entrar na confidência de Mendonça. A\\nvaidade tem mil formas de manifestar-se como o fabuloso Proteu. A vaidade de\\nAndrade era ser confidente dos outros; parecia-lhe assim obter da confiança\\naquilo que só alcançava da indiscrição. Não lhe foi difícil apanhar o segredo\\nde Mendonça; antes de chegar à esquina da Rua dos Ourives já Andrade sabia de\\ntudo.\\n\\n\\x97 Compreendes agora, disse Mendonça, que\\neu preciso ir à casa dela; tenho necessidade de vê-la; quero ver se consigo...\\n\\nMendonça estacou.\\n\\n\\x97 Acaba! disse Andrade; se consegues ser\\namado. Por que não? Mas desde já te digo que não será fácil.\\n\\n\\x97 Por quê?\\n\\n\\x97 Margarida tem rejeitado cinco\\ncasamentos.\\n\\n\\x97 Naturalmente não amava os pretendentes,\\ndisse Mendonça com o ar de um geômetra que acha uma solução.\\n\\n\\x97 Amava apaixonadamente o primeiro,\\nrespondeu Andrade, e não era indiferente ao último.\\n\\n\\x97 Houve naturalmente intriga.\\n\\n\\x97 Também não. Admiras-te? É o que me\\nacontece. É uma rapariga esquisita. Se te achas com força de ser o Colombo\\ndaquele mundo, lança-te ao mar com a armada; mas toma cuidado com a revolta das\\npaixões, que são os ferozes marujos destas navegações de descoberta.\\n\\nEntusiasmado com esta alusão, histórica\\ndebaixo da forma de alegoria, Andrade olhou para Mendonça, que, desta vez\\nentregue ao pensamento da moça, não atendeu à frase do amigo. Andrade\\ncontentou-se com o seu próprio sufrágio, e sorriu com o mesmo ar de satisfação\\nque deve ter um poeta quando escreve o último verso de um poema.\\n\\nCAPÍTULO V\\n\\nDias depois, Andrade e Mendonça foram à\\ncasa de Margarida, e lá passaram meia hora em conversa cerimoniosa. As visitas\\nrepetiram-se; eram porém mais freqüentes da parte de Mendonça que de Andrade.\\nD. Antônia mostrou-se mais familiar que Margarida; só depois de algum tempo\\nMargarida desceu do Olimpo do silêncio em que habitualmente se encerrara.\\n\\nEra difícil deixar de o fazer. Mendonça,\\nconquanto não fosse dado à convivência das salas, era um cavalheiro próprio\\npara entreter duas senhoras que pareciam mortalmente aborrecidas. O médico\\nsabia piano e tocava agradavelmente; a sua conversa era animada; sabia esses\\nmil nadas que entretêm geralmente as senhoras quando elas não gostam ou não\\npodem entrar no terreno elevado da arte, da história e da filosofia. Não foi\\ndifícil ao rapaz estabelecer intimidade com a família.\\n\\nPosteriormente às primeiras visitas,\\nsoube Mendonça, por via de Andrade, que Margarida era viúva. Mendonça não\\nreprimiu o gesto de espanto.\\n\\n\\x97 Mas tu falaste de um modo que parecias\\ntratar de uma solteira, disse ele ao amigo.\\n\\n\\x97 É verdade que não me expliquei bem; os\\ncasamentos recusados foram todos propostos depois da viuvez.\\n\\n\\x97 Há que tempo está viúva?\\n\\n\\x97 Há três anos.\\n\\n\\x97 Tudo se explica, disse Mendonça depois\\nde algum silêncio; quer ficar fiel à sepultura; é uma Artemisa do século.\\n\\nAndrade era cético a respeito de\\nArtemisas; sorriu à observação do amigo, e, como este insistisse, replicou:\\n\\n\\x97 Mas se eu já te disse que ela amava\\napaixonadamente o primeiro pretendente e não era indiferente ao último.\\n\\n\\x97 Então, não compreendo.\\n\\n\\x97 Nem eu.\\n\\nMendonça desde esse momento tratou de\\ncortejar assiduamente a viúva; Margarida recebeu os primeiros olhares de\\nMendonça com um ar de tão supremo desdém, que o rapaz esteve quase a abandonar\\na empresa; mas, a viúva, ao mesmo tempo que parecia recusar amor, não lhe\\nrecusava estima, e tratava-o com a maior meiguice deste mundo sempre que ele a\\nolhava como toda a gente.\\n\\nAmor repelido é amor multiplicado. Cada\\nrepulsa de Margarida aumentava a paixão de Mendonça. Nem já lhe mereciam\\natenção o feroz Calígula, nem o elegante Júlio César. Os dois\\nescravos de Mendonça começaram a notar a profunda diferença que havia entre os\\nhábitos de hoje e os de outro tempo. Supuseram logo que alguma coisa o\\npreocupava. Convenceram-se disso quando Mendonça, entrando uma vez em casa, deu\\ncom a ponta do botim no focinho de Cornélia, na ocasião em que esta\\ninteressante cadelinha, mãe de dois Gracos rateiros, festejava a chegada\\ndo doutor.\\n\\nAndrade não foi insensível aos\\nsofrimentos do amigo e procurou consolá-lo. Toda a consolação nestes casos é\\ntão desejada quanto inútil; Mendonça ouvia as palavras de Andrade e\\nconfiava-lhe todas as suas penas. Andrade lembrou a Mendonça um excelente meio\\nde fazer cessar a paixão: era ausentar-se da casa. A isto respondeu Mendonça\\ncitando La Rochefoucauld:\\n\\n'A ausência diminui as paixões\\nmedíocres e aumenta as grandes, como o vento apaga as velas e atiça as\\nfogueiras.'\\n\\nA citação teve o mérito de tapar a boca\\nde Andrade, que acreditava tanto na constância como nas Artemisas, mas que não\\nqueria contrariar a autoridade do moralista, nem a resolução de Mendonça.\\n\\nCAPÍTULO VI\\n\\nCorreram assim três meses. A corte de Mendonça\\nnão adiantava um passo; mas a viúva nunca deixou de ser amável com ele. Era\\nisto o que principalmente retinha o médico aos pés da insensível viúva; não o\\nabandonava a esperança de vencê-la.\\n\\nAlgum leitor conspícuo desejaria antes\\nque Mendonça não fosse tão assíduo na casa de uma senhora exposta às calúnias\\ndo mundo. Pensou nisso o médico e consolou a consciência com a presença de um\\nindivíduo, até aqui não nomeado por motivo de sua nulidade, e que era nada\\nmenos que o filho da Sra. D. Antônia e a menina dos seus olhos. Chamava-se\\nJorge esse rapaz, que gastava duzentos mil-réis por mês, sem os ganhar, graças\\nà longanimidade da mãe. Freqüentava as casas dos cabeleireiros, onde gastava\\nmais tempo que uma romana da decadência às mãos das suas servas latinas. Não\\nperdia representação de importância no Alcazar; montava bons cavalos, e\\nenriquecia com despesas extraordinárias as algibeiras de algumas damas célebres\\ne de vários parasitas obscuros. Calçava luvas da letra E e botas nº 36, duas\\nqualidades que lançava à cara de todos os seus amigos que não desciam do nº 40\\ne da letra H. A presença deste gentil pimpolho, achava Mendonça que salvava a\\nsituação. Mendonça queria dar esta satisfação ao mundo, isto é, à opinião dos\\nociosos da cidade. Mas bastaria isso para tapar a boca aos ociosos?\\n\\nMargarida parecia indiferente às\\ninterpretações do mundo como à assiduidade do rapaz. Seria ela tão indiferente\\na tudo mais neste mundo? Não; amava a mãe, tinha um capricho por Miss Dollar,\\ngostava da boa música, e lia romances. Vestia-se bem, sem ser rigorista em\\nmatéria de moda; não valsava; quando muito dançava alguma quadrilha nos saraus\\na que era convidada. Não falava muito, mas exprimia-se bem. Tinha o gesto\\ngracioso e animado, mas sem pretensão nem faceirice.\\n\\nQuando Mendonça aparecia lá, Margarida\\nrecebia-o com visível contentamento. O médico iludia-se sempre, apesar de já\\nacostumado a essas manifestações. Com efeito, Margarida gostava imenso da\\npresença do rapaz, mas não parecia dar-lhe uma importância que lisonjeasse o\\ncoração dele. Gostava de o ver como se gosta de ver um dia bonito, sem morrer\\nde amores pelo sol.\\n\\nNão era possível sofrer por muito tempo a\\nposição em que se achava o médico. Uma noite, por um esforço de que antes disso\\nse não julgaria capaz, Mendonça dirigiu a Margarida esta pergunta indiscreta:\\n\\n\\x97 Foi feliz com seu marido?\\n\\nMargarida franziu a testa com espanto e\\ncravou os olhos nos do médico, que pareciam continuar mudamente a pergunta.\\n\\n\\x97 Fui, disse ela no fim de alguns\\ninstantes.\\n\\nMendonça não disse palavra; não contava\\ncom aquela resposta. Confiava demais na intimidade que reinava entre ambos; e\\nqueria descobrir por algum modo a causa da insensibilidade da viúva. Falhou o\\ncálculo; Margarida tornou-se séria durante algum tempo; a chegada de D. Antônia\\nsalvou uma situação esquerda para Mendonça. Pouco depois Margarida voltava às\\nboas, e a conversa tornou-se animada e íntima como sempre. A chegada de Jorge\\nlevou a animação da conversa a proporções maiores; D. Antônia, com olhos e ouvidos\\nde mãe, achava que o filho era o rapaz mais engraçado deste mundo; mas a\\nverdade é que não havia em toda a cristandade espírito mais frívolo. A mãe\\nria-se de tudo quanto o filho dizia; o filho enchia, só ele, a conversa,\\nreferindo anedotas e reproduzindo ditos e sestros do Alcazar. Mendonça via\\ntodas essas feições do rapaz, e aturava-o com resignação evangélica.\\n\\nA entrada de Jorge, animando a conversa,\\nacelerou as horas; às dez retirou-se o médico, acompanhado pelo filho de D.\\nAntônia, que ia cear. Mendonça recusou o convite que Jorge lhe fez, e\\ndespediu-se dele na Rua do Conde, esquina da do Lavradio.\\n\\nNessa mesma noite resolveu Mendonça dar\\num golpe decisivo; resolveu escrever uma carta a Margarida. Era temerário para\\nquem conhecesse o caráter da viúva; mas, com os precedentes já mencionados, era\\nloucura. Entretanto, não hesitou o médico em empregar a carta, confiando que no\\npapel diria as coisas de muito melhor maneira que de boca. A carta foi escrita\\ncom febril impaciência; no dia seguinte, logo depois de almoçar, Mendonça meteu\\na carta dentro de um volume de George Sand, mandou-o pelo moleque a Margarida.\\n\\nA viúva rompeu a capa de papel que\\nembrulhava o volume, e pôs o livro sobre a mesa da sala; meia hora depois\\nvoltou e pegou no livro para ler. Apenas o abriu, caiu-lhe a carta aos pés.\\nAbriu-a e leu o seguinte:\\n\\nQualquer que seja a causa da sua\\nesquivança, respeito-a, não me insurjo contra ela. Mas, se não me é dado\\ninsurgir-me, não me será lícito queixar-me? Há de ter compreendido o meu amor,\\ndo mesmo modo que tenho compreendido a sua indiferença; mas, por maior que seja\\nessa indiferença está longe de ombrear com o amor profundo e imperioso que se\\napossou de meu coração quando eu mais longe me cuidava destas paixões dos\\nprimeiros anos. Não lhe contarei as insônias e as lágrimas, as esperanças e os\\ndesencantos, páginas tristes deste livro que o destino põe nas mãos do homem\\npara que duas almas o leiam. É-lhe indiferente isso.\\n\\nNão ouso interrogá-la sobre a esquivança\\nque tem mostrado em relação a mim; mas por que motivo se estende essa\\nesquivança a tantos mais? Na idade das paixões férvidas, ornada pelo céu com\\numa beleza rara, por que motivo quer esconder-se ao mundo e defraudar a\\nnatureza e o coração de seus incontestáveis direitos? Perdoe-me a audácia da\\npergunta; acho-me diante de um enigma que o meu coração desejaria decifrar.\\nPenso às vezes que alguma grande dor a atormenta, e quisera ser o médico do seu\\ncoração; ambicionava, confesso, restaurar-lhe alguma ilusão perdida. Parece que\\nnão há ofensa nesta ambição.\\n\\nSe, porém, essa esquivança denota\\nsimplesmente um sentimento de orgulho legítimo, perdoe-me se ousei escrever-lhe\\nquando seus olhos expressamente mo proibiram. Rasgue a carta que não pode\\nvaler-lhe uma recordação, nem representar uma arma.\\n\\nA carta era toda de reflexão; a frase\\nfria e medida não exprimia o fogo do sentimento. Não terá, porém, escapado ao\\nleitor a sinceridade e a simplicidade com que Mendonça pedia uma explicação que\\nMargarida provavelmente não podia dar.\\n\\nQuando Mendonça disse a Andrade haver\\nescrito a Margarida, o amigo do médico entrou a rir despregadamente.\\n\\n\\x97 Fiz mal? perguntou Mendonça.\\n\\n\\x97 Estragaste tudo. Os outros pretendentes\\ncomeçaram também por carta; foi justamente a certidão de óbito do amor.\\n\\n\\x97 Paciência, se acontecer o mesmo, disse\\nMendonça levantando os ombros com aparente indiferença; mas eu desejava que não\\nestivesses sempre a falar nos pretendentes; eu não sou pretendente no sentido\\ndesses.\\n\\n\\x97 Não querias casar com ela?\\n\\n\\x97 Sem dúvida, se fosse possível,\\nrespondeu Mendonça.\\n\\n\\x97 Pois era justamente o que os outros\\nqueriam; casar-te-ias e entrarias na mansa posse dos bens que lhe couberam em\\npartilha e que sobem a muito mais de cem contos. Meu rico, se falo em\\npretendentes não é por te ofender, porque um dos quatro pretendentes despedidos\\nfui eu.\\n\\n\\x97 Tu?\\n\\n\\x97 É verdade; mas descansa, não fui o\\nprimeiro, nem ao menos o último.\\n\\n\\x97 Escreveste?\\n\\n\\x97 Como os outros; como eles, não obtive\\nresposta; isto é, obtive uma: devolveu-me a carta. Portanto, já que lhe\\nescreveste, espera o resto; verás se o que te digo é ou não exato. Estás\\nperdido, Mendonça; fizeste muito mal.\\n\\nAndrade tinha esta feição característica\\nde não omitir nenhuma das cores sombrias de uma situação, com o pretexto de que\\naos amigos se deve a verdade. Desenhado o quadro, despediu-se de Mendonça, e\\nfoi adiante.\\n\\nMendonça foi para casa, onde passou a\\nnoite em claro.\\n\\nCAPÍTULO VII\\n\\nEnganara-se Andrade; a viúva respondeu à carta\\ndo médico. A carta dela limitou-se a isto:\\n\\nPerdôo-lhe tudo; não lhe perdoarei se me\\nescrever outra vez. A minha esquivança não tem nenhuma causa; é questão de\\ntemperamento.\\n\\nO sentido da carta era ainda mais\\nlacônico do que a expressão. Mendonça leu-a muitas vezes, a ver se a\\ncompletava; mas foi trabalho perdido. Uma coisa concluiu ele logo; era que\\nhavia coisa oculta que arredava Margarida do casamento; depois concluiu outra,\\nera que Margarida ainda lhe perdoaria segunda carta se lha escrevesse.\\n\\nA primeira vez que Mendonça foi a\\nMata-cavalos achou-se embaraçado sobre a maneira por que falaria a Margarida; a\\nviúva tirou-o do embaraço, tratando-o como se nada houvesse entre ambos.\\nMendonça não teve ocasião de aludir às cartas por causa da presença de D.\\nAntônia, mas estimou isso mesmo, porque não sabia o que lhe diria caso viessem\\na ficar sós os dois.\\n\\nDias depois, Mendonça escreveu segunda\\ncarta à viúva e mandou-lha pelo mesmo canal da outra. A carta foi-lhe devolvida\\nsem resposta. Mendonça arrependeu-se de ter abusado da ordem da moça, e\\nresolveu, de uma vez por todas, não voltar à casa de Mata-cavalos. Nem tinha\\nânimo de lá aparecer, nem julgava conveniente estar junto de uma pessoa a quem\\namava sem esperança.\\n\\nAo cabo de um mês não tinha perdido uma\\npartícula sequer do sentimento que nutria pela viúva. Amava-a com o mesmíssimo\\nardor. A ausência, como ele pensara, aumentou-lhe o amor, como o vento ateia um\\nincêndio. Debalde lia ou buscava distrair-se na vida agitada do Rio de Janeiro;\\nentrou a escrever um estudo sobre a teoria do ouvido, mas a pena\\nescapava-se-lhe para o coração, e saiu o escrito com uma mistura de nervos e\\nsentimentos. Estava então na sua maior nomeada o romance de Renan sobre\\na vida de Jesus; Mendonça encheu o gabinete com todos os folhetos publicados de\\nparte a parte, e entrou a estudar profundamente o misterioso drama da Judéia.\\nFez quanto pôde para absorver o espírito e esquecer a esquiva Margarida;\\nera-lhe impossível.\\n\\nUm dia de manhã apareceu-lhe em casa o\\nfilho de D. Antônia; traziam-no dois motivos: perguntar-lhe por que não ia a\\nMata-cavalos, e mostrar-lhe umas calças novas. Mendonça aprovou as calças, e\\ndesculpou como pôde a ausência, dizendo que andava atarefado. Jorge não era\\nalma que compreendesse a verdade escondida por baixo de uma palavra\\nindiferente; vendo Mendonça mergulhado no meio de uma chusma de livros e\\nfolhetos, perguntou-lhe se estava estudando para ser deputado. Jorge cuidava\\nque se estudava para ser deputado!\\n\\n\\x97 Não, respondeu Mendonça.\\n\\n\\x97 É verdade que a prima também lá anda\\ncom livros, e não creio que pretenda ir à câmara.\\n\\n\\x97 Ah! sua prima?\\n\\n\\x97 Não imagina; não faz outra coisa.\\nFecha-se no quarto, e passa os dias inteiros a ler.\\n\\nInformado por Jorge, Mendonça supôs que\\nMargarida era nada menos que uma mulher de letras, alguma modesta poetisa, que\\nesquecia o amor dos homens nos braços das musas. A suposição era gratuita e\\nfilha mesmo de um espírito cego pelo amor como o de Mendonça. Há várias razões\\npara ler muito sem ter comércio com as musas.\\n\\n\\x97 Note que a prima nunca leu tanto; agora\\né que lhe deu para isso, disse Jorge tirando da charuteira um magnífico havana\\ndo valor de três tostões, e oferecendo outro a Mendonça. Fume isto, continuou\\nele, fume e diga-me se há ninguém como o Bernardo para ter charutos bons.\\n\\nGastos os charutos, Jorge despediu-se do\\nmédico, levando a promessa de que este iria à casa de D. Antônia o mais cedo\\nque pudesse.\\n\\nNo fim de quinze dias Mendonça voltou a\\nMata-cavalos.\\n\\nEncontrou na sala Andrade e D. Antônia,\\nque o receberam com aleluias. Mendonça parecia com efeito ressurgir de um\\ntúmulo; tinha emagrecido e empalidecido. A melancolia dava-lhe ao rosto maior\\nexpressão de abatimento. Alegou trabalhos extraordinários, e entrou a conversar\\nalegremente como dantes. Mas essa alegria, como se compreende, era toda\\nforçada. No fim de um quarto de hora a tristeza apossou-se-lhe outra vez do\\nrosto. Durante esse tempo, Margarida não apareceu na sala; Mendonça, que até\\nentão não perguntara por ela, não sei por que razão, vendo que ela não\\naparecia, perguntou se estava doente. D. Antônia respondeu-lhe que Margarida\\nestava um pouco incomodada.\\n\\nO incômodo de Margarida durou uns três\\ndias; era uma simples dor de cabeça, que o primo atribuiu à aturada leitura.\\n\\nNo fim de alguns dias mais, D. Antônia\\nfoi surpreendida com uma lembrança de Margarida; a viúva queria ir viver na\\nroça algum tempo.\\n\\n\\x97 Aborrece-te a cidade? perguntou a boa\\nvelha.\\n\\n\\x97 Alguma coisa, respondeu Margarida; queria\\nir viver uns dois meses na roça.\\n\\nD. Antônia não podia recusar nada à\\nsobrinha; concordou em ir para a roça; e começaram os preparativos. Mendonça\\nsoube da mudança no Rocio, andando a passear de noite; disse-lho Jorge na\\nocasião de ir para o Alcazar. Para o rapaz era uma fortuna aquela mudança,\\nporque suprimia-lhe a única obrigação que ainda tinha neste mundo, que era a de\\nir jantar com a mãe.\\n\\nNão achou Mendonça nada que admirar na\\nresolução; as resoluções de Margarida começavam a parecer-lhe simplicidades.\\n\\nQuando voltou para casa encontrou um\\nbilhete de D. Antônia concebido nestes termos:\\n\\nTemos de ir para fora alguns meses;\\nespero que não nos deixe sem despedir-se de nós. A partida é sábado; e eu quero\\nincumbi-lo de uma coisa.\\n\\nMendonça tomou chá, e dispôs-se a dormir.\\nNão pôde. Quis ler; estava incapaz disso. Era cedo; saiu. Insensivelmente\\ndirigiu os passos para Mata-cavalos. A casa de D. Antônia estava fechada e\\nsilenciosa; evidentemente estavam já dormindo. Mendonça passou adiante, e parou\\njunto da grade do jardim adjacente à casa. De fora podia ver a janela do quarto\\nde Margarida, pouco elevada, e dando para o jardim. Havia luz dentro;\\nnaturalmente Margarida estava acordada. Mendonça deu mais alguns passos; a\\nporta do jardim estava aberta. Mendonça sentiu pulsar-lhe o coração com força\\ndesconhecida. Surgiu-lhe no espírito uma suspeita. Não há coração confiante que\\nnão tenha desfalecimentos destes; além de que, seria errada a suspeita?\\nMendonça, entretanto, não tinha nenhum direito à viúva; fora repelido\\ncategoricamente. Se havia algum dever da parte dele era a retirada e o\\nsilêncio.\\n\\nMendonça quis conservar-se no limite que\\nlhe estava marcado; a porta aberta do jardim podia ser esquecimento da parte\\ndos fâmulos. O médico refletiu bem que aquilo tudo era fortuito, e fazendo um\\nesforço afastou-se do lugar. Adiante parou e refletiu; havia um demônio que o\\nimpelia por aquela porta dentro. Mendonça voltou, e entrou com precaução.\\n\\nApenas dera alguns passos surgiu-lhe em\\nfrente Miss Dollar latindo; parece que a galga saíra de casa sem ser\\npressentida; Mendonça amimou-a e a cadelinha parece que reconheceu o médico,\\nporque trocou os latidos em festas. Na parede do quarto de Margarida\\ndesenhou-se uma sombra de mulher; era a viúva que chegava à janela para ver a\\ncausa do ruído. Mendonça coseu-se como pôde com uns arbustos que ficavam junto\\nda grade; não vendo ninguém, Margarida voltou para dentro.\\n\\nPassados alguns minutos, Mendonça saiu do\\nlugar em que se achava e dirigiu-se para o lado da janela da viúva.\\nAcompanhava-o Miss Dollar. Do jardim não podia olhar, ainda que fosse\\nmais alto, para o aposento da moça. A cadelinha apenas chegou àquele ponto,\\nsubiu ligeira uma escada de pedra que comunicava o jardim com a casa; a porta\\ndo quarto de Margarida ficava justamente no corredor que se seguia à escada; a\\nporta estava aberta. O rapaz imitou a cadelinha; subiu os seis degraus de pedra\\nvagarosamente; quando pôs o pé no último ouviu Miss Dollar pulando no\\nquarto e vindo latir à porta, como que avisando a Margarida de que se\\naproximava um estranho.\\n\\nMendonça deu mais um passo. Mas nesse\\nmomento atravessou o jardim um escravo que acudia ao latido da cadelinha; o\\nescravo examinou o jardim, e não vendo ninguém retirou-se. Margarida foi à\\njanela e perguntou o que era; o escravo explicou-lho e tranqüilizou-a dizendo\\nque não havia ninguém.\\n\\nJustamente quando ela saía da janela\\naparecia à porta a figura de Mendonça. Margarida estremeceu por um abalo\\nnervoso; ficou mais pálida do que era; depois, concentrando nos olhos toda a\\nsoma de indignação que pode conter um coração, perguntou-lhe com voz trêmula:\\n\\n\\x97 Que quer aqui?\\n\\nFoi nesse momento, e só então, que\\nMendonça reconheceu toda a baixeza do seu procedimento, ou para falar mais\\nacertadamente, toda a alucinação do seu espírito. Pareceu-lhe ver em Margarida\\na figura da sua consciência, a exprobrar-lhe tamanha indignidade. O pobre rapaz\\nnão procurou desculpar-se; a sua resposta foi singela e verdadeira.\\n\\n\\x97 Sei que cometi um ato infame, disse\\nele; não tinha razão para isso; estava louco; agora conheço a extensão do mal.\\nNão lhe peço que me desculpe, D. Margarida; não mereço perdão; mereço desprezo;\\nadeus!\\n\\n\\x97 Compreendo, senhor, disse Margarida;\\nquer obrigar-me pela força do descrédito quando me não pode obrigar pelo\\ncoração. Não é de cavalheiro.\\n\\n\\x97 Oh! isso... juro-lhe que não foi tal o\\nmeu pensamento...\\n\\nMargarida caiu numa cadeira parecendo\\nchorar. Mendonça deu um passo para entrar, visto que até então não saíra da\\nporta; Margarida levantou os olhos cobertos de lágrimas, e com um gesto\\nimperioso mostrou-lhe que saísse.\\n\\nMendonça obedeceu; nem um nem outro\\ndormiram nessa noite. Ambos curvavam-se ao peso da vergonha: mas, por honra de\\nMendonça, a dele era maior que a dela; e a dor de uma não ombreava com o\\nremorso de outro.\\n\\nCAPÍTULO\\nVIII\\n\\nNo dia seguinte estava Mendonça em casa\\nfumando charutos sobre charutos, recurso das grandes ocasiões, quando parou à\\nporta dele um carro, apeando-se pouco depois a mãe de Jorge. A visita pareceu\\nde mau agouro ao médico. Mas apenas a velha entrou, dissipou-lhe o receio.\\n\\n\\x97 Creio, disse D. Antônia, que a minha\\nidade permite visitar um homem solteiro.\\n\\nMendonça procurou sorrir ouvindo este\\ngracejo; mas não pôde. Convidou a boa senhora a sentar-se, e sentou-se ele\\ntambém esperando que ela lhe explicasse a causa da visita.\\n\\n\\x97 Escrevi-lhe ontem, disse ela, para que\\nfosse ver-me hoje; preferi vir cá, receando que por qualquer motivo não fosse a\\nMata-cavalos.\\n\\n\\x97 Queria então incumbir-me?\\n\\n\\x97 De coisa nenhuma, respondeu a velha\\nsorrindo; incumbir disse-lhe eu, como diria qualquer outra coisa indiferente;\\nquero informá-lo.\\n\\n\\x97 Ah! de quê?\\n\\n\\x97 Sabe quem ficou hoje de cama?\\n\\n\\x97 D. Margarida?\\n\\n\\x97 É verdade; amanheceu um pouco doente;\\ndiz que passou a noite mal. Eu creio que sei a razão, acrescentou D. Antônia\\nrindo maliciosamente para Mendonça.\\n\\n\\x97 Qual será então a razão? perguntou o\\nmédico.\\n\\n\\x97 Pois não percebe?\\n\\n\\x97 Não.\\n\\n\\x97 Margarida ama-o.\\n\\nMendonça levantou-se da cadeira como por\\numa mola. A declaração da tia da viúva era tão inesperada que o rapaz cuidou\\nestar sonhando.\\n\\n\\x97 Ama-o, repetiu D. Antônia.\\n\\n\\x97 Não creio, respondeu Mendonça depois de\\nalgum silêncio; há de ser engano seu.\\n\\n\\x97 Engano! disse a velha.\\n\\nD. Antônia contou a Mendonça que, curiosa\\npor saber a causa das vigílias de Margarida, descobrira no quarto dela um diário\\nde impressões, escrito por ela, à imitação de não sei quantas heroínas de\\nromances; aí lera a verdade que lhe acabava de dizer.\\n\\n\\x97 Mas se me ama, observou Mendonça\\nsentindo entrar-lhe n\\x92alma um mundo de esperanças, se me ama, por que recusa o\\nmeu coração?\\n\\n\\x97 O diário explica isso mesmo; eu\\nlhe digo. Margarida foi infeliz no casamento; o marido teve unicamente em vista\\ngozar da riqueza dela; Margarida adquiriu a certeza de que nunca será amada por\\nsi, mas pelos cabedais que possui; atribui o seu amor à cobiça. Está\\nconvencido?\\n\\nMendonça começou a protestar.\\n\\n\\x97 É inútil, disse D. Antônia, eu creio na\\nsinceridade do seu afeto; já de há muito percebi isso mesmo; mas como convencer\\num coração desconfiado?\\n\\n\\x97 Não sei.\\n\\n\\x97 Nem eu, disse a velha, mas para isso é\\nque eu vim cá; peço-lhe que veja se pode fazer com que a minha Margarida torne\\na ser feliz, se lhe influi a crença no amor que lhe tem.\\n\\n\\x97 Acho que é impossível...\\n\\nMendonça lembrou-se de contar a D.\\nAntônia a cena da véspera; mas arrependeu-se a tempo.\\n\\nD. Antônia saiu pouco depois.\\n\\nA situação de Mendonça, ao passo que se\\ntornara mais clara, estava mais difícil que dantes. Era possível tentar alguma\\ncoisa antes da cena do quarto; mas depois, achava Mendonça impossível conseguir\\nnada.\\n\\nA doença de Margarida durou dois dias, no\\nfim dos quais levantou-se a viúva um pouco abatida, e a primeira coisa que fez\\nfoi escrever a Mendonça pedindo-lhe que fosse lá à casa.\\n\\nMendonça admirou-se bastante do convite,\\ne obedeceu de pronto.\\n\\n\\x97 Depois do que se deu há três dias,\\ndisse-lhe Margarida, compreende o senhor que eu não posso ficar debaixo da ação\\nda maledicência... Diz que me ama; pois bem, o nosso casamento é inevitável.\\n\\nInevitável! amargou esta\\npalavra ao médico, que aliás não podia recusar uma reparação. Lembrava-se ao\\nmesmo tempo que era amado; e conquanto a idéia lhe sorrisse ao espírito, outra\\nvinha dissipar esse instantâneo prazer, e era a suspeita que Margarida nutria a\\nseu respeito.\\n\\n\\x97 Estou às suas ordens, respondeu ele.\\n\\nAdmirou-se D. Antônia da presteza do\\ncasamento quando Margarida lho anunciou nesse mesmo dia. Supôs que fosse\\nmilagre do rapaz. Pelo tempo adiante reparou que os noivos tinham cara mais de\\nenterro que de casamento. Interrogou a sobrinha a esse respeito; obteve uma\\nresposta evasiva.\\n\\nFoi modesta e reservada a cerimônia do\\ncasamento. Andrade serviu de padrinho, D. Antônia de madrinha; Jorge falou no\\nAlcazar a um padre, seu amigo, para celebrar o ato.\\n\\nD. Antônia quis que os noivos ficassem\\nresidindo em casa com ela. Quando Mendonça se achou a sós com Margarida,\\ndisse-lhe:\\n\\n\\x97 Casei-me para salvar-lhe a reputação;\\nnão quero obrigar pela fatalidade das coisas um coração que me não pertence.\\nTer-me-á por seu amigo; até amanhã.\\n\\nSaiu Mendonça depois deste speech,\\ndeixando Margarida suspensa entre o conceito que fazia dele e a impressão das\\nsuas palavras agora.\\n\\nNão havia posição mais singular do que a\\ndestes noivos separados por uma quimera. O mais belo dia da vida tornava-se\\npara eles um dia de desgraça e de solidão; a formalidade do casamento foi\\nsimplesmente o prelúdio do mais completo divórcio. Menos ceticismo da parte de\\nMargarida, mais cavalheirismo da parte do rapaz, teriam poupado o desenlace\\nsombrio da comédia do coração. Vale mais imaginar que descrever as torturas\\ndaquela primeira noite de noivado.\\n\\nMas aquilo que o espírito do homem não\\nvence, há de vencê-lo o tempo, a quem cabe final razão. O tempo convenceu\\nMargarida de que a sua suspeita era gratuita; e, coincidindo com ele o coração,\\nveio a tornar-se efetivo o casamento apenas celebrado.\\n\\nAndrade ignorou estas coisas; cada vez\\nque encontrava Mendonça chamava-lhe Colombo do amor; tinha Andrade a mania de\\ntodo o sujeito a quem as idéias ocorrem trimestralmente; apenas pilhada alguma\\nde jeito repetia-a até a saciedade.\\n\\nOs dois esposos são ainda noivos e\\nprometem sê-lo até a morte. Andrade meteu-se na diplomacia e promete ser um dos\\nluzeiros da nossa representação internacional. Jorge continua a ser um bom\\npândego; D. Antônia prepara-se para despedir-se do mundo.\\n\\nQuanto a Miss Dollar, causa\\nindireta de todos estes acontecimentos, saindo um dia à rua foi pisada por um\\ncarro; faleceu pouco depois. Margarida não pôde reter algumas lágrimas pela\\nnobre cadelinha; foi o corpo enterrado na chácara, à sombra de uma laranjeira;\\ncobre a sepultura uma lápide com esta simples inscrição:\\n\\nA Miss Dollar\\n\\nLuís Soares\\n\\nÍNDICE\\n\\nCapítulo Primeiro\\n\\nCapítulo II\\n\\nCapítulo iii\\n\\nCapítulo iv\\n\\nCapítulo v\\n\\nCapítulo vI\""
            ]
          },
          "metadata": {
            "tags": []
          },
          "execution_count": 94
        }
      ]
    },
    {
      "cell_type": "code",
      "metadata": {
        "id": "9W9Aazfn55Er"
      },
      "source": [
        "character_set = string.printable\n",
        "character_to_index = {}\n",
        "n_characters = len(character_set)\n",
        "\n",
        "for character in character_set:\n",
        "  if character not in character_to_index:\n",
        "    character_to_index[character] = len(character_to_index)"
      ],
      "execution_count": 95,
      "outputs": []
    },
    {
      "cell_type": "code",
      "metadata": {
        "colab": {
          "base_uri": "https://localhost:8080/"
        },
        "id": "wuCHhSwa-54c",
        "outputId": "1df5f6ca-af55-44ba-b152-259a6dea804b"
      },
      "source": [
        "raw_text = unidecode.unidecode(raw_text)\n",
        "raw_text = raw_text.replace('\\n', ' ')\n",
        "len_text = len(raw_text)\n",
        "len(f'{raw_text}')"
      ],
      "execution_count": 96,
      "outputs": [
        {
          "output_type": "execute_result",
          "data": {
            "text/plain": [
              "47198"
            ]
          },
          "metadata": {
            "tags": []
          },
          "execution_count": 96
        }
      ]
    },
    {
      "cell_type": "code",
      "metadata": {
        "id": "TLjvRAqq_a3S"
      },
      "source": [
        "chunk_len = 200\n",
        "\n",
        "def random_text_chunk():\n",
        "    start = random.randint(0, len_text - chunk_len)\n",
        "    end = start+ chunk_len + 1\n",
        "    return raw_text[start: end]\n",
        "\n",
        "def string_to_tensor(sentence, character_to_index):\n",
        "  tensor = torch.zeros(len(sentence)).long()\n",
        "  for char in range(len(sentence)):\n",
        "    tensor[char] = character_to_index[sentence[char]]\n",
        "  return Variable(tensor)\n",
        "\n",
        "def create_training_set():\n",
        "  chunk = random_chunk()\n",
        "  input = string_to_tensor(chunk[:-1], character_to_index)\n",
        "  target = string_to_tensor(chunk[1:], character_to_index)\n",
        "  return input, target"
      ],
      "execution_count": 107,
      "outputs": []
    },
    {
      "cell_type": "code",
      "metadata": {
        "id": "X6P1TMA5_kQQ"
      },
      "source": [
        "class RNN(nn.Module):\n",
        "  def __init__(self, input_size, hidden_size, output_size, n_layers=1):\n",
        "    super(RNN, self).__init__()\n",
        "    self.input_size = input_size\n",
        "    self.hidden_size = hidden_size\n",
        "    self.output_size = output_size\n",
        "    self.n_layers = n_layers\n",
        "\n",
        "    self.encoder = nn.Embedding(input_size, hidden_size)\n",
        "    self.gru = nn.GRU(hidden_size, hidden_size, n_layers)\n",
        "    self.decoder = nn.Linear(hidden_size, output_size)\n",
        "\n",
        "  def forward(self, input, hidden):\n",
        "    input = self.encoder(input.view(1, -1))\n",
        "    output, hidden = self.gru(input.view(1, 1, -1), hidden)\n",
        "    output = self.decoder(output.view(1, -1))\n",
        "    return output, hidden\n",
        "\n",
        "  def init_hidden(self):\n",
        "    return Variable(torch.zeros(self.n_layers, 1, self.hidden_size))"
      ],
      "execution_count": 108,
      "outputs": []
    },
    {
      "cell_type": "code",
      "metadata": {
        "id": "VoTttNhlBkOF"
      },
      "source": [
        "def evaluate(prime_str='A', predict_len=100, temperature=0.8):\n",
        "  hidden = decoder.init_hidden()\n",
        "  prime_input = string_to_tensor(prime_str, character_to_index)\n",
        "  predicted = prime_str\n",
        "\n",
        "  for p in range(len(prime_str) - 1):\n",
        "    _, hidden = decoder(prime_input[p], hidden)\n",
        "  inp = prime_input[-1]\n",
        "\n",
        "  for p in range(predict_len):\n",
        "    output, hidden = decoder(inp, hidden)\n",
        "\n",
        "    output_dist = output.data.view(-1).div(temperature).exp()\n",
        "    top_i = torch.multinomial(output_dist, 1)[0]\n",
        "\n",
        "    predicted_char = character_set[top_i]\n",
        "    predicted += predicted_char\n",
        "    inp = string_to_tensor(predicted_char, character_to_index)\n",
        "\n",
        "  return predicted"
      ],
      "execution_count": 109,
      "outputs": []
    },
    {
      "cell_type": "code",
      "metadata": {
        "id": "5dJunv7SR97P"
      },
      "source": [
        "import time, math\n",
        "\n",
        "def time_since(since):\n",
        "  s = time.time() - since\n",
        "  m = math.floor(s / 60)\n",
        "  s -= m * 60\n",
        "  return '%dm %ds' % (m, s)"
      ],
      "execution_count": 110,
      "outputs": []
    },
    {
      "cell_type": "code",
      "metadata": {
        "id": "U1IV9c3TSeV7"
      },
      "source": [
        "def train(input, target):\n",
        "  hidden = decoder.init_hidden()\n",
        "  decoder.zero_grad()\n",
        "  loss = 0\n",
        "  for c in range(chunk_len):\n",
        "    output, hidden = decoder(input[c], hidden)\n",
        "    loss += criterion(output, target[c].unsqueeze(0))\n",
        "\n",
        "  loss.backward()\n",
        "  decoder_optimizer.step()\n",
        "\n",
        "  return loss.item() / chunk_len"
      ],
      "execution_count": 111,
      "outputs": []
    },
    {
      "cell_type": "code",
      "metadata": {
        "colab": {
          "base_uri": "https://localhost:8080/"
        },
        "id": "p2lDIdNQSgq-",
        "outputId": "5b8fe4b3-72fc-4a46-bda6-943bbb7f4ab5"
      },
      "source": [
        "n_epochs = 2000\n",
        "print_every = 100\n",
        "plot_every = 10\n",
        "hidden_size = 100\n",
        "n_layers = 1\n",
        "lr = 0.005\n",
        "\n",
        "decoder = RNN(n_characters, hidden_size, n_characters, n_layers)\n",
        "decoder_optimizer = torch.optim.Adam(decoder.parameters(), lr=lr)\n",
        "criterion = nn.CrossEntropyLoss()\n",
        "\n",
        "start = time.time()\n",
        "all_losses = []\n",
        "loss_avg = 0\n",
        "\n",
        "for epoch in range(1, n_epochs + 1):\n",
        "  loss = train(*create_traning_set())\n",
        "  loss_avg += loss\n",
        "\n",
        "  if epoch % print_every == 0:\n",
        "    print('[%s (%d %d%%) %.4f]' % (time_since(start), epoch, epoch / n_epochs * 100, loss))\n",
        "    print(evaluate('Wh', 100), '\\n')\n",
        "\n",
        "  if epoch % plot_every == 0:\n",
        "    all_losses.append(loss_avg / plot_every)\n",
        "    loss_avg = 0"
      ],
      "execution_count": 112,
      "outputs": [
        {
          "output_type": "stream",
          "text": [
            "[0m 15s (100 5%) 2.1025]\n",
            "Wha da  dia de o elho os seitos se o miu ha ecido um; que que de porindontantontou.  E renda astide po \n",
            "\n",
            "[0m 31s (200 10%) 1.9930]\n",
            "Whuentara estar mentor o e sois.  A velega. Codo e o pessapeno oue ter unda. Erera as entorde indo lon \n",
            "\n",
            "[0m 47s (300 15%) 1.9516]\n",
            "Whe-as teva mim ainde Nar o cardas. E cama cara ou a fentusidate, persou-se de plos ser do couturr da  \n",
            "\n",
            "[1m 3s (400 20%) 1.8045]\n",
            "Wh! estrida o que cormenia proncamento mesto dio gualvar incampo, que Mendrade do abelo Ras les de a l \n",
            "\n",
            "[1m 18s (500 25%) 1.8698]\n",
            "Whe; lichado aparecse um ventente a ao com um mem com para que escunte as que Mendonca a jas leitos co \n",
            "\n",
            "[1m 34s (600 30%) 1.8109]\n",
            "Whe se conhavel quar ferito; a comulhado a rapaos se que senhora responca prombre a megor lidou-lhe do \n",
            "\n",
            "[1m 50s (700 35%) 1.5252]\n",
            "Wh! luveta-lhe amargui aboisa e mele ela casa com a mas e riz do munuvava acasa, a com a gratiu ela da \n",
            "\n",
            "[2m 5s (800 40%) 1.5570]\n",
            "Wh$us parecerdo. Era a pedeu despedir-sista osma na sa e a com cara parrida e algomo.  Mendonca de a s \n",
            "\n",
            "[2m 21s (900 45%) 1.6344]\n",
            "Whe, fora com da tistrava de esta que um que masma folicia em rapaz da feliz ao cadamavar a com foi de \n",
            "\n",
            "[2m 36s (1000 50%) 1.8441]\n",
            "Whado, Margarida inscontou, a com foi nos fasle o por que esta ao a poas alguns para ser a Margarida a \n",
            "\n",
            "[2m 51s (1100 55%) 1.8366]\n",
            "Whor sao satos e lhe arto.  Estima casa o peredade e sente a sem idade a saisim e que resse de convent \n",
            "\n",
            "[3m 6s (1200 60%) 1.5043]\n",
            "Whe se ao migo signado e a retifencio de contententensa antive-lhe se em nesta alargua os de suas venc \n",
            "\n",
            "[3m 23s (1300 65%) 1.5188]\n",
            "Wh! o para de a emiligo de Mencaga a satina deuse e repaixoes de dora a fonvracao, a Margarida de Jull \n",
            "\n",
            "[3m 38s (1400 70%) 1.4398]\n",
            "Who que de bolam de medida; maos que, deles de seria primentar-se casa entres os para estava do tempos \n",
            "\n",
            "[3m 54s (1500 75%) 1.3750]\n",
            "Wh!  senica chava de Mendonca.  D. Antonia comicas de Julbre a caradinima de tam vabicia a segmes cena \n",
            "\n",
            "[4m 10s (1600 80%) 1.6663]\n",
            "Who por amigoria do verdade em Margarita com o se a Andradente e a mai nao verdade; ter despeniramanta \n",
            "\n",
            "[4m 25s (1700 85%) 1.4192]\n",
            "Whuntanteu diasse de Mendonca ser invida pavenco de Jorge que o pantepredos do que sem descontou cando \n",
            "\n",
            "[4m 41s (1800 90%) 1.6476]\n",
            "Wh! salida para. A falanca que em para exprimeira se a fuginifencar de a conter.   uma qualzencabe lat \n",
            "\n",
            "[4m 57s (1900 95%) 1.5197]\n",
            "Whuito para cada de a ceria olhos do suas saianto.   Fiz de que comigorias desas trito de Mata-cavalos \n",
            "\n",
            "[5m 12s (2000 100%) 1.5466]\n",
            "Whe ha compreenia da casias, um coisas que o conhadimento e leitor na viuva a foi housa a ser dizendo  \n",
            "\n"
          ],
          "name": "stdout"
        }
      ]
    },
    {
      "cell_type": "code",
      "metadata": {
        "colab": {
          "base_uri": "https://localhost:8080/"
        },
        "id": "CXM2ahGCMTTM",
        "outputId": "62610293-3de5-4c48-fb6d-47e2095aa966"
      },
      "source": [
        "print(evaluate('A', 200, temperature=0.5))"
      ],
      "execution_count": 116,
      "outputs": [
        {
          "output_type": "stream",
          "text": [
            "A-cava as com o motivo e dia do sentar-se pelo na senhor a carta a Miss Dollar e com o com o mende e a corta a corando de outra de olhos de Margarida com Mendonca a casa de conse alguma nao latio de Ma\n"
          ],
          "name": "stdout"
        }
      ]
    },
    {
      "cell_type": "code",
      "metadata": {
        "id": "XJGsMSt9dwXf"
      },
      "source": [
        ""
      ],
      "execution_count": null,
      "outputs": []
    },
    {
      "cell_type": "markdown",
      "metadata": {
        "id": "rJo0JmO6d-P6"
      },
      "source": [
        ""
      ]
    }
  ]
}