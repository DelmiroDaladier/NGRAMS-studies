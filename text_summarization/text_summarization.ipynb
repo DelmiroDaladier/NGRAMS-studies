{
  "nbformat": 4,
  "nbformat_minor": 0,
  "metadata": {
    "colab": {
      "name": "text_summarization.ipynb",
      "provenance": [],
      "collapsed_sections": [],
      "authorship_tag": "ABX9TyN4T85felVeg2q14hodBk6q",
      "include_colab_link": true
    },
    "kernelspec": {
      "name": "python3",
      "display_name": "Python 3"
    }
  },
  "cells": [
    {
      "cell_type": "markdown",
      "metadata": {
        "id": "view-in-github",
        "colab_type": "text"
      },
      "source": [
        "<a href=\"https://colab.research.google.com/github/DelmiroDaladier/NLP-studies/blob/master/text_summarization/text_summarization.ipynb\" target=\"_parent\"><img src=\"https://colab.research.google.com/assets/colab-badge.svg\" alt=\"Open In Colab\"/></a>"
      ]
    },
    {
      "cell_type": "code",
      "metadata": {
        "id": "9wXRFAi0J2sw"
      },
      "source": [
        "import re\n",
        "import nltk\n",
        "import numpy as np\n",
        "import pandas as pd\n",
        "from nltk.corpus import stopwords"
      ],
      "execution_count": 31,
      "outputs": []
    },
    {
      "cell_type": "code",
      "metadata": {
        "id": "S9Ined9PZf2i"
      },
      "source": [
        "nltk.download('stopwords')"
      ],
      "execution_count": null,
      "outputs": []
    },
    {
      "cell_type": "code",
      "metadata": {
        "id": "qcXMOovAL9PU"
      },
      "source": [
        "dataset = pd.read_csv('Reviews.csv', encoding=\"utf-8\")"
      ],
      "execution_count": 10,
      "outputs": []
    },
    {
      "cell_type": "code",
      "metadata": {
        "id": "GOG8lbgLMCFo",
        "outputId": "d8fd67f1-e6df-4cf9-fa5c-a03422c42137",
        "colab": {
          "base_uri": "https://localhost:8080/",
          "height": 207
        }
      },
      "source": [
        "dataset.sample(5)"
      ],
      "execution_count": 11,
      "outputs": [
        {
          "output_type": "execute_result",
          "data": {
            "text/html": [
              "<div>\n",
              "<style scoped>\n",
              "    .dataframe tbody tr th:only-of-type {\n",
              "        vertical-align: middle;\n",
              "    }\n",
              "\n",
              "    .dataframe tbody tr th {\n",
              "        vertical-align: top;\n",
              "    }\n",
              "\n",
              "    .dataframe thead th {\n",
              "        text-align: right;\n",
              "    }\n",
              "</style>\n",
              "<table border=\"1\" class=\"dataframe\">\n",
              "  <thead>\n",
              "    <tr style=\"text-align: right;\">\n",
              "      <th></th>\n",
              "      <th>Id</th>\n",
              "      <th>ProductId</th>\n",
              "      <th>UserId</th>\n",
              "      <th>ProfileName</th>\n",
              "      <th>HelpfulnessNumerator</th>\n",
              "      <th>HelpfulnessDenominator</th>\n",
              "      <th>Score</th>\n",
              "      <th>Time</th>\n",
              "      <th>Summary</th>\n",
              "      <th>Text</th>\n",
              "    </tr>\n",
              "  </thead>\n",
              "  <tbody>\n",
              "    <tr>\n",
              "      <th>27732</th>\n",
              "      <td>27733</td>\n",
              "      <td>B0006PXTDY</td>\n",
              "      <td>AD4MP3O3NL291</td>\n",
              "      <td>C. White \"ccclady\"</td>\n",
              "      <td>0.0</td>\n",
              "      <td>0.0</td>\n",
              "      <td>5.0</td>\n",
              "      <td>1.285286e+09</td>\n",
              "      <td>All Gone</td>\n",
              "      <td>There were none left from the Wedding Candy Ba...</td>\n",
              "    </tr>\n",
              "    <tr>\n",
              "      <th>21031</th>\n",
              "      <td>21032</td>\n",
              "      <td>B002QWP89S</td>\n",
              "      <td>A1TY4AX8AVRAYQ</td>\n",
              "      <td>Downing</td>\n",
              "      <td>0.0</td>\n",
              "      <td>0.0</td>\n",
              "      <td>5.0</td>\n",
              "      <td>1.350346e+09</td>\n",
              "      <td>Cleaner dog mouth</td>\n",
              "      <td>This is a good product. My dog likes them, Mak...</td>\n",
              "    </tr>\n",
              "    <tr>\n",
              "      <th>139902</th>\n",
              "      <td>139903</td>\n",
              "      <td>B0061IUKDM</td>\n",
              "      <td>A1U6M8VJHK2ECA</td>\n",
              "      <td>Isabelle Jolly</td>\n",
              "      <td>0.0</td>\n",
              "      <td>0.0</td>\n",
              "      <td>5.0</td>\n",
              "      <td>1.332374e+09</td>\n",
              "      <td>Higgins &amp; Burke Green Tea</td>\n",
              "      <td>I've been drinking tea since childhood.  As an...</td>\n",
              "    </tr>\n",
              "    <tr>\n",
              "      <th>152385</th>\n",
              "      <td>152386</td>\n",
              "      <td>B000LKZD4W</td>\n",
              "      <td>A1NCBHQ4VIES48</td>\n",
              "      <td>Loan P. Nguyen \"phuongloan\"</td>\n",
              "      <td>0.0</td>\n",
              "      <td>0.0</td>\n",
              "      <td>5.0</td>\n",
              "      <td>1.315699e+09</td>\n",
              "      <td>Taste great</td>\n",
              "      <td>This is the best brand for vegan jerky. I love...</td>\n",
              "    </tr>\n",
              "    <tr>\n",
              "      <th>243693</th>\n",
              "      <td>243694</td>\n",
              "      <td>B000SAPXGS</td>\n",
              "      <td>A2BT968XSRPP0K</td>\n",
              "      <td>CJBouhlal \"Cjb\"</td>\n",
              "      <td>14.0</td>\n",
              "      <td>14.0</td>\n",
              "      <td>5.0</td>\n",
              "      <td>1.269043e+09</td>\n",
              "      <td>Excellent Tea.</td>\n",
              "      <td>I grew up drinking authentic Moroccan Tea in M...</td>\n",
              "    </tr>\n",
              "  </tbody>\n",
              "</table>\n",
              "</div>"
            ],
            "text/plain": [
              "            Id  ...                                               Text\n",
              "27732    27733  ...  There were none left from the Wedding Candy Ba...\n",
              "21031    21032  ...  This is a good product. My dog likes them, Mak...\n",
              "139902  139903  ...  I've been drinking tea since childhood.  As an...\n",
              "152385  152386  ...  This is the best brand for vegan jerky. I love...\n",
              "243693  243694  ...  I grew up drinking authentic Moroccan Tea in M...\n",
              "\n",
              "[5 rows x 10 columns]"
            ]
          },
          "metadata": {
            "tags": []
          },
          "execution_count": 11
        }
      ]
    },
    {
      "cell_type": "code",
      "metadata": {
        "id": "mh_7DQAkj99v"
      },
      "source": [
        "dataset.drop_duplicates(subset ='Text', inplace=True)\n",
        "dataset.dropna(inplace=True)"
      ],
      "execution_count": 12,
      "outputs": []
    },
    {
      "cell_type": "code",
      "metadata": {
        "id": "csrKvof7mkCy"
      },
      "source": [
        "contraction_mapping = {\"ain't\": \"is not\", \"aren't\": \"are not\",\"can't\": \"cannot\", \"'cause\": \"because\", \"could've\": \"could have\", \"couldn't\": \"could not\",\n",
        "\n",
        "                           \"didn't\": \"did not\", \"doesn't\": \"does not\", \"don't\": \"do not\", \"hadn't\": \"had not\", \"hasn't\": \"has not\", \"haven't\": \"have not\",\n",
        "\n",
        "                           \"he'd\": \"he would\",\"he'll\": \"he will\", \"he's\": \"he is\", \"how'd\": \"how did\", \"how'd'y\": \"how do you\", \"how'll\": \"how will\", \"how's\": \"how is\",\n",
        "\n",
        "                           \"I'd\": \"I would\", \"I'd've\": \"I would have\", \"I'll\": \"I will\", \"I'll've\": \"I will have\",\"I'm\": \"I am\", \"I've\": \"I have\", \"i'd\": \"i would\",\n",
        "\n",
        "                           \"i'd've\": \"i would have\", \"i'll\": \"i will\",  \"i'll've\": \"i will have\",\"i'm\": \"i am\", \"i've\": \"i have\", \"isn't\": \"is not\", \"it'd\": \"it would\",\n",
        "\n",
        "                           \"it'd've\": \"it would have\", \"it'll\": \"it will\", \"it'll've\": \"it will have\",\"it's\": \"it is\", \"let's\": \"let us\", \"ma'am\": \"madam\",\n",
        "\n",
        "                           \"mayn't\": \"may not\", \"might've\": \"might have\",\"mightn't\": \"might not\",\"mightn't've\": \"might not have\", \"must've\": \"must have\",\n",
        "\n",
        "                           \"mustn't\": \"must not\", \"mustn't've\": \"must not have\", \"needn't\": \"need not\", \"needn't've\": \"need not have\",\"o'clock\": \"of the clock\",\n",
        "\n",
        "                           \"oughtn't\": \"ought not\", \"oughtn't've\": \"ought not have\", \"shan't\": \"shall not\", \"sha'n't\": \"shall not\", \"shan't've\": \"shall not have\",\n",
        "\n",
        "                           \"she'd\": \"she would\", \"she'd've\": \"she would have\", \"she'll\": \"she will\", \"she'll've\": \"she will have\", \"she's\": \"she is\",\n",
        "\n",
        "                           \"should've\": \"should have\", \"shouldn't\": \"should not\", \"shouldn't've\": \"should not have\", \"so've\": \"so have\",\"so's\": \"so as\",\n",
        "\n",
        "                           \"this's\": \"this is\",\"that'd\": \"that would\", \"that'd've\": \"that would have\", \"that's\": \"that is\", \"there'd\": \"there would\",\n",
        "\n",
        "                           \"there'd've\": \"there would have\", \"there's\": \"there is\", \"here's\": \"here is\",\"they'd\": \"they would\", \"they'd've\": \"they would have\",\n",
        "\n",
        "                           \"they'll\": \"they will\", \"they'll've\": \"they will have\", \"they're\": \"they are\", \"they've\": \"they have\", \"to've\": \"to have\",\n",
        "\n",
        "                           \"wasn't\": \"was not\", \"we'd\": \"we would\", \"we'd've\": \"we would have\", \"we'll\": \"we will\", \"we'll've\": \"we will have\", \"we're\": \"we are\",\n",
        "\n",
        "                           \"we've\": \"we have\", \"weren't\": \"were not\", \"what'll\": \"what will\", \"what'll've\": \"what will have\", \"what're\": \"what are\",\n",
        "\n",
        "                           \"what's\": \"what is\", \"what've\": \"what have\", \"when's\": \"when is\", \"when've\": \"when have\", \"where'd\": \"where did\", \"where's\": \"where is\",\n",
        "\n",
        "                           \"where've\": \"where have\", \"who'll\": \"who will\", \"who'll've\": \"who will have\", \"who's\": \"who is\", \"who've\": \"who have\",\n",
        "\n",
        "                           \"why's\": \"why is\", \"why've\": \"why have\", \"will've\": \"will have\", \"won't\": \"will not\", \"won't've\": \"will not have\",\n",
        "\n",
        "                           \"would've\": \"would have\", \"wouldn't\": \"would not\", \"wouldn't've\": \"would not have\", \"y'all\": \"you all\",\n",
        "\n",
        "                           \"y'all'd\": \"you all would\",\"y'all'd've\": \"you all would have\",\"y'all're\": \"you all are\",\"y'all've\": \"you all have\",\n",
        "\n",
        "                           \"you'd\": \"you would\", \"you'd've\": \"you would have\", \"you'll\": \"you will\", \"you'll've\": \"you will have\",\n",
        "\n",
        "                           \"you're\": \"you are\", \"you've\": \"you have\"}\n",
        "\n"
      ],
      "execution_count": 13,
      "outputs": []
    },
    {
      "cell_type": "code",
      "metadata": {
        "id": "FZ6Z3I8krJI0"
      },
      "source": [
        "stop_words = set(stopwords.words('english'))\n",
        "def clean_text(text):\n",
        "    formatted_text = text.lower()\n",
        "    formatted_text = re.sub(r'\\([^)]*\\)', '', formatted_text)\n",
        "    formatted_text = re.sub('\"','', formatted_text)\n",
        "    formatted_text = re.sub(r'<.*?>', '', formatted_text)\n",
        "    formatted_Text = ' '.join([contraction_mapping[t] if t in contraction_mapping else t for t in formatted_text.split(\" \")])    \n",
        "    formatted_text = re.sub(r\"'s\\b\",\"\", formatted_text)\n",
        "    formatted_text = re.sub(\"[^a-zA-Z]\", \" \", formatted_text) \n",
        "    tokens = [word for word in formatted_text.split() if word not in stop_words]\n",
        "    \n",
        "    long_words = []\n",
        "    for token in tokens:\n",
        "      if len(token) >= 3:\n",
        "        long_words.append(token)\n",
        "\n",
        "    return (\" \".join(long_words).strip())\n",
        "\n",
        "    return formatted_text"
      ],
      "execution_count": 21,
      "outputs": []
    },
    {
      "cell_type": "code",
      "metadata": {
        "id": "6SfPQoRirkd7"
      },
      "source": [
        "cleaned_text = []\n",
        "\n",
        "for text in dataset['Text']:\n",
        "  cleaned_text.append(clean_text(text))"
      ],
      "execution_count": 23,
      "outputs": []
    },
    {
      "cell_type": "code",
      "metadata": {
        "id": "Glgw6Mu3tshy"
      },
      "source": [
        "def summary_cleaner(text):\n",
        "    formatted_text = re.sub('\"','', text)\n",
        "    formatted_text = ' '.join([contraction_mapping[t] if t in contraction_mapping else t for t in formatted_text.split(\" \")])    \n",
        "    formatted_text = re.sub(r\"'s\\b\",\"\",formatted_text)\n",
        "    formatted_text = re.sub(\"[^a-zA-Z]\", \" \", formatted_text)\n",
        "    formatted_text = formatted_text.lower()\n",
        "    tokens=formatted_text.split()\n",
        "    formatted_text=''\n",
        "    for i in tokens:\n",
        "        if len(i)>1:                                 \n",
        "            formatted_text=formatted_text+i+' '  \n",
        "    return formatted_text  "
      ],
      "execution_count": 27,
      "outputs": []
    },
    {
      "cell_type": "code",
      "metadata": {
        "id": "BfXBRcIkyDzs"
      },
      "source": [
        "cleaned_summaries = []\n",
        "\n",
        "for summary in dataset['Summary']:\n",
        "  cleaned_summaries.append(summary_cleaner(summary))\n"
      ],
      "execution_count": 28,
      "outputs": []
    },
    {
      "cell_type": "code",
      "metadata": {
        "id": "L4QRQaMsfxsb"
      },
      "source": [
        "dataset['cleaned_text'] = cleaned_text\n",
        "dataset['cleaned_summary'] = cleaned_summaries\n",
        "dataset['cleaned_summary'].replace('', np.nan, inplace=True)\n",
        "dataset['cleaned_summary'].dropna(axis=0, inplace=True)"
      ],
      "execution_count": 32,
      "outputs": []
    },
    {
      "cell_type": "code",
      "metadata": {
        "id": "x0uLZak_iiO4",
        "outputId": "896bd8a0-aa65-4320-8ba1-161ed4086cc2",
        "colab": {
          "base_uri": "https://localhost:8080/"
        }
      },
      "source": [
        "dataset['cleaned_summary'].apply(lambda x : '<SOS>' + str(x) + '<EOS>')"
      ],
      "execution_count": 45,
      "outputs": [
        {
          "output_type": "execute_result",
          "data": {
            "text/plain": [
              "0                  <SOS>good quality dog food <EOS>\n",
              "1                      <SOS>not as advertised <EOS>\n",
              "2                    <SOS>delight says it all <EOS>\n",
              "3                         <SOS>cough medicine <EOS>\n",
              "4                            <SOS>great taffy <EOS>\n",
              "                            ...                    \n",
              "273974    <SOS>wonderful but not my favorites <EOS>\n",
              "273975     <SOS>terrific for morning sickness <EOS>\n",
              "273976                      <SOS>ginger chews <EOS>\n",
              "273977        <SOS>love them love the variety <EOS>\n",
              "273978               <SOS>chimes ginger chews <EOS>\n",
              "Name: cleaned_summary, Length: 214589, dtype: object"
            ]
          },
          "metadata": {
            "tags": []
          },
          "execution_count": 45
        }
      ]
    },
    {
      "cell_type": "code",
      "metadata": {
        "id": "_tmVMxF3isiB"
      },
      "source": [
        "max_len_text=80 \n",
        "max_len_summary=10"
      ],
      "execution_count": 48,
      "outputs": []
    },
    {
      "cell_type": "code",
      "metadata": {
        "id": "WO_Z4o3Lm3Yv"
      },
      "source": [
        ""
      ],
      "execution_count": 48,
      "outputs": []
    },
    {
      "cell_type": "code",
      "metadata": {
        "id": "zIQv15MLnJIz"
      },
      "source": [
        ""
      ],
      "execution_count": null,
      "outputs": []
    }
  ]
}