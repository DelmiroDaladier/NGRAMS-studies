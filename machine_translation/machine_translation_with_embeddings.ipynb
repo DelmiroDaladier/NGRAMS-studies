{
  "nbformat": 4,
  "nbformat_minor": 0,
  "metadata": {
    "colab": {
      "name": "machine_translation.ipynb",
      "provenance": [],
      "collapsed_sections": [],
      "authorship_tag": "ABX9TyM3WwesVdjsCM4uan/zrmgu",
      "include_colab_link": true
    },
    "kernelspec": {
      "name": "python3",
      "display_name": "Python 3"
    }
  },
  "cells": [
    {
      "cell_type": "markdown",
      "metadata": {
        "id": "view-in-github",
        "colab_type": "text"
      },
      "source": [
        "<a href=\"https://colab.research.google.com/github/DelmiroDaladier/NLP-studies/blob/master/machine_translation/machine_translation_with_embeddings.ipynb\" target=\"_parent\"><img src=\"https://colab.research.google.com/assets/colab-badge.svg\" alt=\"Open In Colab\"/></a>"
      ]
    },
    {
      "cell_type": "code",
      "metadata": {
        "id": "7BNCfpKBOzJs"
      },
      "source": [
        "import re\n",
        "import numpy as np\n",
        "import pandas as pd\n",
        "from string import digits\n",
        "from sklearn.model_selection import train_test_split\n",
        "\n",
        "from keras import Model\n",
        "from keras.models import load_model\n",
        "from keras.layers import Dropout, Input, Embedding, LSTM, Dense"
      ],
      "execution_count": 3,
      "outputs": []
    },
    {
      "cell_type": "code",
      "metadata": {
        "id": "k5-YJO7WO_5R",
        "outputId": "d392c242-4862-43af-a257-e45c72da08c9",
        "colab": {
          "base_uri": "https://localhost:8080/"
        }
      },
      "source": [
        "en_dataset = pd.read_csv('small_vocab_en.csv', header=None, error_bad_lines=False, sep='/n')\n",
        "fr_dataset = pd.read_csv('small_vocab_fr.csv', header=None, error_bad_lines=False, sep='/n')"
      ],
      "execution_count": 29,
      "outputs": [
        {
          "output_type": "stream",
          "text": [
            "/usr/local/lib/python3.6/dist-packages/ipykernel_launcher.py:1: ParserWarning: Falling back to the 'python' engine because the 'c' engine does not support regex separators (separators > 1 char and different from '\\s+' are interpreted as regex); you can avoid this warning by specifying engine='python'.\n",
            "  \"\"\"Entry point for launching an IPython kernel.\n",
            "/usr/local/lib/python3.6/dist-packages/ipykernel_launcher.py:2: ParserWarning: Falling back to the 'python' engine because the 'c' engine does not support regex separators (separators > 1 char and different from '\\s+' are interpreted as regex); you can avoid this warning by specifying engine='python'.\n",
            "  \n"
          ],
          "name": "stderr"
        }
      ]
    },
    {
      "cell_type": "code",
      "metadata": {
        "id": "XlUJ3tU2SPuD"
      },
      "source": [
        "en_dataset.rename({0:'text'}, inplace=True, axis=1)\n",
        "fr_dataset.rename({0:'text'}, inplace=True, axis=1)\n"
      ],
      "execution_count": 30,
      "outputs": []
    },
    {
      "cell_type": "code",
      "metadata": {
        "id": "FDMYP1UyPtWb"
      },
      "source": [
        "remove_digits =  str.maketrans('', '', digits) \n",
        "\n",
        "en_dataset['text'] = en_dataset['text'].apply(lambda x: x.lower())\n",
        "fr_dataset['text'] = fr_dataset['text'].apply(lambda x: x.lower())\n",
        "\n",
        "en_dataset['text'] = en_dataset['text'].apply(lambda x: re.sub(\"[^\\w\\s]\", \"\",x))\n",
        "fr_dataset['text'] = fr_dataset['text'].apply(lambda x: re.sub(\"[^\\w\\s]\", \"\",x))\n",
        "\n",
        "en_dataset['text'] = en_dataset['text'].apply(lambda x: x.translate(remove_digits))\n",
        "fr_dataset['text'] = fr_dataset['text'].apply(lambda x: x.translate(remove_digits))\n",
        "\n",
        "en_dataset['text'] = en_dataset['text'].apply(lambda x: x.strip())\n",
        "fr_dataset['text'] = fr_dataset['text'].apply(lambda x: x.strip())\n",
        "\n",
        "en_dataset['text'] = en_dataset['text'].apply(lambda x: '<SOS> ' + x + ' <EOS>')\n",
        "fr_dataset['text'] = fr_dataset['text'].apply(lambda x: '<SOS> ' + x + ' <EOS>')"
      ],
      "execution_count": 31,
      "outputs": []
    },
    {
      "cell_type": "code",
      "metadata": {
        "id": "YzcOZByfSi4F"
      },
      "source": [
        "word_to_index_en = {}\n",
        "index_to_word_en = {}\n",
        "word_index = 0\n",
        "for sentence in en_dataset['text'].values:\n",
        "  for word in sentence.split():\n",
        "    if word not in word_to_index_en.keys():\n",
        "      word_to_index_en[word] = word_index\n",
        "      index_to_word_en[word_index] = word\n",
        "      word_index += 1\n"
      ],
      "execution_count": 32,
      "outputs": []
    },
    {
      "cell_type": "code",
      "metadata": {
        "id": "2JYKmA85aGOn"
      },
      "source": [
        "max_len_en = max([len(sentence.split()) for sentence in en_dataset['text']])"
      ],
      "execution_count": 33,
      "outputs": []
    },
    {
      "cell_type": "code",
      "metadata": {
        "id": "2we4E70sYxdX"
      },
      "source": [
        "word_to_index_fr = {}\n",
        "index_to_word_fr = {}\n",
        "word_index = 0\n",
        "for sentence in fr_dataset['text'].values:\n",
        "  for word in sentence.split():\n",
        "    if word not in word_to_index_fr.keys():\n",
        "      word_to_index_fr[word] = word_index\n",
        "      index_to_word_fr[word_index] = word\n",
        "      word_index += 1"
      ],
      "execution_count": 34,
      "outputs": []
    },
    {
      "cell_type": "code",
      "metadata": {
        "id": "vPF2CLkUageN"
      },
      "source": [
        "max_len_fr = max([len(sentence.split()) for sentence in fr_dataset['text']])"
      ],
      "execution_count": 35,
      "outputs": []
    },
    {
      "cell_type": "code",
      "metadata": {
        "id": "boDApHWacCAv"
      },
      "source": [
        "num_encoder_tokens = len(word_to_index_en.keys())\n",
        "num_decoder_tokens = len(word_to_index_fr.keys())"
      ],
      "execution_count": 36,
      "outputs": []
    },
    {
      "cell_type": "code",
      "metadata": {
        "id": "0CcK8LS_ZupI"
      },
      "source": [
        "X = en_dataset['text'].values\n",
        "Y = fr_dataset['text'].values\n",
        "\n",
        "X_train, X_test, Y_train, Y_test = train_test_split(X, Y, test_size = 0.1)"
      ],
      "execution_count": 37,
      "outputs": []
    },
    {
      "cell_type": "code",
      "metadata": {
        "id": "X8z7fTrkvJs9"
      },
      "source": [
        "def create_data_generator(x = X_train, y = Y_train, batch_size=128):\n",
        "\n",
        "  while True:\n",
        "    for j in range(0, len(x), batch_size):\n",
        "      encoder_input_data = np.zeros((batch_size, max_len_en), dtype=\"float32\")\n",
        "      decoder_input_data = np.zeros((batch_size, max_len_fr), dtype=\"float32\")\n",
        "      decoder_target_data = np.zeros((batch_size, max_len_fr, num_decoder_tokens), dtype=\"float32\")\n",
        "\n",
        "      for i, (input_text, target_text) in enumerate(zip(x[j:j+batch_size], y[j:j+batch_size])):\n",
        "        for t, word in enumerate(input_text.split()):\n",
        "          encoder_input_data[i, t] = word_to_index_en[word] \n",
        "        for t, word in enumerate(target_text.split()):\n",
        "          if t < len(target_text.split())-1:\n",
        "            decoder_input_data[i, t] = word_to_index_fr[word]\n",
        "          if t > 0 :\n",
        "            decoder_target_data[i, t - 1, word_to_index_fr[word]] = 1.0\n",
        "\n",
        "      yield([encoder_input_data, decoder_input_data], decoder_target_data)"
      ],
      "execution_count": 39,
      "outputs": []
    },
    {
      "cell_type": "code",
      "metadata": {
        "id": "gE0JQYP8zpUb"
      },
      "source": [
        "latent_dim=64\n",
        "encoder_inputs = Input(shape=(None,))\n",
        "encoder_embedding = Embedding(num_encoder_tokens, latent_dim, mask_zero=True)(encoder_inputs)\n",
        "encoder_lstm = LSTM(latent_dim, return_state=True)\n",
        "encoder_outputs, state_h, state_c = encoder_lstm(encoder_embedding)\n",
        "encoder_states = [state_h, state_c]\n",
        "\n",
        "decoder_inputs = Input(shape=(None,))\n",
        "decoder_embedding = Embedding(num_decoder_tokens, latent_dim, mask_zero=True)\n",
        "dec_emb = decoder_embedding(decoder_inputs)\n",
        "\n",
        "decoder_lstm = LSTM(latent_dim, return_sequences=True, return_state=True)\n",
        "decoder_outputs, _, _ = decoder_lstm(\n",
        "    dec_emb,\n",
        "    initial_state=encoder_states)\n",
        "decoder_dense = Dense(num_decoder_tokens, activation='softmax')\n",
        "decoder_outputs = decoder_dense(decoder_outputs)\n",
        "\n",
        "model = Model([encoder_inputs, decoder_inputs], decoder_outputs)"
      ],
      "execution_count": 40,
      "outputs": []
    },
    {
      "cell_type": "code",
      "metadata": {
        "id": "1H1BYDTKvnTN",
        "outputId": "afa2786d-5649-4ce7-a31d-44b473784c24",
        "colab": {
          "base_uri": "https://localhost:8080/"
        }
      },
      "source": [
        "model.summary()"
      ],
      "execution_count": 41,
      "outputs": [
        {
          "output_type": "stream",
          "text": [
            "Model: \"functional_7\"\n",
            "__________________________________________________________________________________________________\n",
            "Layer (type)                    Output Shape         Param #     Connected to                     \n",
            "==================================================================================================\n",
            "input_3 (InputLayer)            [(None, None)]       0                                            \n",
            "__________________________________________________________________________________________________\n",
            "input_4 (InputLayer)            [(None, None)]       0                                            \n",
            "__________________________________________________________________________________________________\n",
            "embedding_2 (Embedding)         (None, None, 64)     12864       input_3[0][0]                    \n",
            "__________________________________________________________________________________________________\n",
            "embedding_3 (Embedding)         (None, None, 64)     22144       input_4[0][0]                    \n",
            "__________________________________________________________________________________________________\n",
            "lstm_2 (LSTM)                   [(None, 64), (None,  33024       embedding_2[0][0]                \n",
            "__________________________________________________________________________________________________\n",
            "lstm_3 (LSTM)                   [(None, None, 64), ( 33024       embedding_3[0][0]                \n",
            "                                                                 lstm_2[0][1]                     \n",
            "                                                                 lstm_2[0][2]                     \n",
            "__________________________________________________________________________________________________\n",
            "dense_1 (Dense)                 (None, None, 346)    22490       lstm_3[0][0]                     \n",
            "==================================================================================================\n",
            "Total params: 123,546\n",
            "Trainable params: 123,546\n",
            "Non-trainable params: 0\n",
            "__________________________________________________________________________________________________\n"
          ],
          "name": "stdout"
        }
      ]
    },
    {
      "cell_type": "code",
      "metadata": {
        "id": "01vFLc4K3OQC",
        "outputId": "4385aa57-ae59-4caf-80c0-a42534451648",
        "colab": {
          "base_uri": "https://localhost:8080/"
        }
      },
      "source": [
        "model.compile(optimizer='rmsprop', loss='categorical_crossentropy', metrics=['acc'])\n",
        "\n",
        "train_samples = len(X_train) # Total Training samples\n",
        "val_samples = len(X_test)    # Total validation or test samples\n",
        "batch_size = 128\n",
        "epochs = 200\n",
        "\n",
        "model.fit_generator(generator = create_data_generator(X_train, Y_train, batch_size = batch_size),\n",
        "                    steps_per_epoch = train_samples//batch_size,\n",
        "                    epochs=epochs,\n",
        "                    validation_data = create_data_generator(X_test, Y_test, batch_size = batch_size),\n",
        "                    validation_steps = val_samples//batch_size)\n",
        "\n",
        "model.save('machine_translation')"
      ],
      "execution_count": null,
      "outputs": [
        {
          "output_type": "stream",
          "text": [
            "Epoch 1/200\n",
            "969/969 [==============================] - 117s 121ms/step - loss: 0.0043 - acc: 0.9980 - val_loss: 0.0110 - val_acc: 0.9948\n",
            "Epoch 2/200\n",
            "539/969 [===============>..............] - ETA: 48s - loss: 0.0041 - acc: 0.9980"
          ],
          "name": "stdout"
        }
      ]
    },
    {
      "cell_type": "code",
      "metadata": {
        "id": "Z2BjphAwrEPZ"
      },
      "source": [
        "model = load_model(\"machine_translation\")\n",
        "\n",
        "encoder_inputs = model.input[0]  # input_1\n",
        "encoder_outputs, state_h_enc, state_c_enc = model.layers[4].output  # lstm\n",
        "encoder_states = [state_h_enc, state_c_enc]\n",
        "encoder_model = Model(encoder_inputs, encoder_states)\n",
        "\n",
        "decoder_inputs = model.input[1]  # input_2\n",
        "decoder_state_input_h = Input(shape=(latent_dim,), name=\"input_hidden_state\")\n",
        "decoder_state_input_c = Input(shape=(latent_dim,), name=\"input_cell_state\")\n",
        "decoder_states_inputs = [decoder_state_input_h, decoder_state_input_c]\n",
        "\n",
        "dec_emb_layer = model.layers[3]\n",
        "dec_emb2 = dec_emb_layer(decoder_inputs)\n",
        "\n",
        "decoder_lstm = model.layers[5] # lstm_1\n",
        "decoder_outputs, state_h_dec, state_c_dec = decoder_lstm(\n",
        "    dec_emb2, initial_state=decoder_states_inputs\n",
        ")\n",
        "decoder_states = [state_h_dec, state_c_dec]\n",
        "decoder_dense = model.layers[6]\n",
        "decoder_outputs = decoder_dense(decoder_outputs)\n",
        "decoder_model = Model(\n",
        "    [decoder_inputs] + decoder_states_inputs, [decoder_outputs] + decoder_states\n",
        ")\n"
      ],
      "execution_count": null,
      "outputs": []
    },
    {
      "cell_type": "code",
      "metadata": {
        "id": "FNNeQTYKrJsZ"
      },
      "source": [
        "def decode_sequence(input_seq):\n",
        "    \n",
        "    states_value = encoder_model.predict(input_seq)\n",
        "\n",
        "    target_seq = np.zeros((1,1))\n",
        "\n",
        "    target_seq[0, 0] = word_to_index_fr['<SOS>']\n",
        "   \n",
        "    stop_condition = False\n",
        "    decoded_sentence = ''\n",
        "    while not stop_condition:\n",
        "\n",
        "        output_tokens, h, c = decoder_model.predict([target_seq] + states_value)\n",
        "        sampled_token_index = np.argmax(output_tokens[0, -1, :])\n",
        "        sampled_word =index_to_word_fr[sampled_token_index]\n",
        "        decoded_sentence += ' '+ sampled_word\n",
        "\n",
        "        if sampled_word == '<EOS>' or len(decoded_sentence.split()) > max_len_fr:\n",
        "            stop_condition = True\n",
        "        target_seq = np.zeros((1,1))\n",
        "        target_seq[0, 0] = sampled_token_index\n",
        "        states_value = [h, c]\n",
        "    return decoded_sentence"
      ],
      "execution_count": null,
      "outputs": []
    },
    {
      "cell_type": "code",
      "metadata": {
        "id": "zo-Hl9RsujwT"
      },
      "source": [
        "train_gen = create_data_generator(X_test, Y_test, batch_size = 1)\n",
        "for seq_index in range(3):\n",
        "    # Take one sequence (part of the training set)\n",
        "    # for trying out decoding.\n",
        "    input_seq = next(train_gen)\n",
        "    decoded_sentence = decode_sequence(input_seq)\n",
        "    print(\"-\")\n",
        "    print(\"Input sentence:\", X_test[seq_index])\n",
        "    print(\"Real sentence:\", Y_test[seq_index])\n",
        "    print(\"Predicted sentence:\", decoded_sentence)"
      ],
      "execution_count": null,
      "outputs": []
    },
    {
      "cell_type": "code",
      "metadata": {
        "id": "WAwr7ppwvZqi"
      },
      "source": [
        "a, b = next(train_gen)\n",
        "print(b.shape)"
      ],
      "execution_count": null,
      "outputs": []
    },
    {
      "cell_type": "code",
      "metadata": {
        "id": "To2VSj_UwWSp"
      },
      "source": [
        "latent_dim=128"
      ],
      "execution_count": 20,
      "outputs": []
    },
    {
      "cell_type": "code",
      "metadata": {
        "id": "TOYKB8oCt75V"
      },
      "source": [
        ""
      ],
      "execution_count": null,
      "outputs": []
    }
  ]
}