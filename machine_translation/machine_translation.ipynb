{
  "nbformat": 4,
  "nbformat_minor": 0,
  "metadata": {
    "colab": {
      "name": "machine_translation.ipynb",
      "provenance": [],
      "collapsed_sections": [],
      "authorship_tag": "ABX9TyMXSo5Aro6RXrhMnUwmrvFZ",
      "include_colab_link": true
    },
    "kernelspec": {
      "name": "python3",
      "display_name": "Python 3"
    }
  },
  "cells": [
    {
      "cell_type": "markdown",
      "metadata": {
        "id": "view-in-github",
        "colab_type": "text"
      },
      "source": [
        "<a href=\"https://colab.research.google.com/github/DelmiroDaladier/NLP-studies/blob/master/machine_translation/machine_translation.ipynb\" target=\"_parent\"><img src=\"https://colab.research.google.com/assets/colab-badge.svg\" alt=\"Open In Colab\"/></a>"
      ]
    },
    {
      "cell_type": "code",
      "metadata": {
        "id": "7BNCfpKBOzJs"
      },
      "source": [
        "import re\n",
        "import numpy as np\n",
        "import pandas as pd\n",
        "from string import digits\n",
        "from sklearn.model_selection import train_test_split\n",
        "\n",
        "from keras import Model\n",
        "from keras.models import load_model\n",
        "from keras.layers import Dropout, Input, Embedding, LSTM, Dense"
      ],
      "execution_count": 21,
      "outputs": []
    },
    {
      "cell_type": "code",
      "metadata": {
        "id": "k5-YJO7WO_5R",
        "outputId": "0d61315e-50ea-4f3b-80fa-d3bae498a617",
        "colab": {
          "base_uri": "https://localhost:8080/"
        }
      },
      "source": [
        "en_dataset = pd.read_csv('small_vocab_en.csv', header=None, error_bad_lines=False, sep='/n', nrows=15000)\n",
        "fr_dataset = pd.read_csv('small_vocab_fr.csv', header=None, error_bad_lines=False, sep='/n', nrows=15000)"
      ],
      "execution_count": 22,
      "outputs": [
        {
          "output_type": "stream",
          "text": [
            "/usr/local/lib/python3.6/dist-packages/ipykernel_launcher.py:1: ParserWarning: Falling back to the 'python' engine because the 'c' engine does not support regex separators (separators > 1 char and different from '\\s+' are interpreted as regex); you can avoid this warning by specifying engine='python'.\n",
            "  \"\"\"Entry point for launching an IPython kernel.\n",
            "/usr/local/lib/python3.6/dist-packages/ipykernel_launcher.py:2: ParserWarning: Falling back to the 'python' engine because the 'c' engine does not support regex separators (separators > 1 char and different from '\\s+' are interpreted as regex); you can avoid this warning by specifying engine='python'.\n",
            "  \n"
          ],
          "name": "stderr"
        }
      ]
    },
    {
      "cell_type": "code",
      "metadata": {
        "id": "XlUJ3tU2SPuD"
      },
      "source": [
        "en_dataset.rename({0:'text'}, inplace=True, axis=1)\n",
        "fr_dataset.rename({0:'text'}, inplace=True, axis=1)\n"
      ],
      "execution_count": 23,
      "outputs": []
    },
    {
      "cell_type": "code",
      "metadata": {
        "id": "FDMYP1UyPtWb"
      },
      "source": [
        "remove_digits =  str.maketrans('', '', digits) \n",
        "\n",
        "en_dataset['text'] = en_dataset['text'].apply(lambda x: x.lower())\n",
        "fr_dataset['text'] = fr_dataset['text'].apply(lambda x: x.lower())\n",
        "\n",
        "en_dataset['text'] = en_dataset['text'].apply(lambda x: re.sub(\"[^\\w\\s]\", \"\",x))\n",
        "fr_dataset['text'] = fr_dataset['text'].apply(lambda x: re.sub(\"[^\\w\\s]\", \"\",x))\n",
        "\n",
        "en_dataset['text'] = en_dataset['text'].apply(lambda x: x.translate(remove_digits))\n",
        "fr_dataset['text'] = fr_dataset['text'].apply(lambda x: x.translate(remove_digits))\n",
        "\n",
        "en_dataset['text'] = en_dataset['text'].apply(lambda x: x.strip())\n",
        "fr_dataset['text'] = fr_dataset['text'].apply(lambda x: x.strip())\n",
        "\n",
        "en_dataset['text'] = en_dataset['text'].apply(lambda x: '<SOS> ' + x + ' <EOS>')\n",
        "fr_dataset['text'] = fr_dataset['text'].apply(lambda x: '<SOS> ' + x + ' <EOS>')"
      ],
      "execution_count": 24,
      "outputs": []
    },
    {
      "cell_type": "code",
      "metadata": {
        "id": "YzcOZByfSi4F"
      },
      "source": [
        "word_to_index_en = {}\n",
        "index_to_word_en = {}\n",
        "word_index = 0\n",
        "for sentence in en_dataset['text'].values:\n",
        "  for word in sentence.split():\n",
        "    if word not in word_to_index_en.keys():\n",
        "      word_to_index_en[word] = word_index\n",
        "      index_to_word_en[word_index] = word\n",
        "      word_index += 1\n"
      ],
      "execution_count": 25,
      "outputs": []
    },
    {
      "cell_type": "code",
      "metadata": {
        "id": "2JYKmA85aGOn"
      },
      "source": [
        "max_len_en = max([len(sentence) for sentence in en_dataset['text']])"
      ],
      "execution_count": 26,
      "outputs": []
    },
    {
      "cell_type": "code",
      "metadata": {
        "id": "2we4E70sYxdX"
      },
      "source": [
        "word_to_index_fr = {}\n",
        "index_to_word_fr = {}\n",
        "word_index = 0\n",
        "for sentence in fr_dataset['text'].values:\n",
        "  for word in sentence.split():\n",
        "    if word not in word_to_index_fr.keys():\n",
        "      word_to_index_fr[word] = word_index\n",
        "      index_to_word_fr[word_index] = word\n",
        "      word_index += 1"
      ],
      "execution_count": 27,
      "outputs": []
    },
    {
      "cell_type": "code",
      "metadata": {
        "id": "vPF2CLkUageN"
      },
      "source": [
        "max_len_fr = max([len(sentence) for sentence in fr_dataset['text']])"
      ],
      "execution_count": 28,
      "outputs": []
    },
    {
      "cell_type": "code",
      "metadata": {
        "id": "boDApHWacCAv"
      },
      "source": [
        "num_encoder_tokens = len(word_to_index_en.keys())\n",
        "num_decoder_tokens = len(word_to_index_fr.keys())"
      ],
      "execution_count": 29,
      "outputs": []
    },
    {
      "cell_type": "code",
      "metadata": {
        "id": "0CcK8LS_ZupI"
      },
      "source": [
        "X = en_dataset['text'].values\n",
        "Y = fr_dataset['text'].values\n",
        "\n",
        "X_train, X_test, Y_train, Y_test = train_test_split(X, Y, test_size = 0.1)"
      ],
      "execution_count": 30,
      "outputs": []
    },
    {
      "cell_type": "code",
      "metadata": {
        "id": "s0n7Zoi6doi3"
      },
      "source": [
        "def create_model_data (X, Y):\n",
        "  encoder_input = np.zeros((X.shape[0], max_len_en, num_encoder_tokens), dtype='float32')\n",
        "  decoder_input = np.zeros((X.shape[0], max_len_fr, num_decoder_tokens), dtype='float32')\n",
        "  decoder_target = np.zeros((X.shape[0], max_len_fr, num_decoder_tokens), dtype='float32')\n",
        "\n",
        "  for j, (input_sentence, target_sentence) in enumerate(zip(X, Y)):\n",
        "      for pos, word in enumerate(input_sentence.split()):\n",
        "        encoder_input[j, pos, word_to_index_en[word]] = 1.0\n",
        "      encoder_input[j, pos+1, word_to_index_en['<EOS>']] = 1.0\n",
        "\n",
        "      for pos, word in enumerate(target_sentence.split()):\n",
        "        decoder_input[j, pos, word_to_index_fr[word]] = 1.0\n",
        "\n",
        "        if pos > 0:\n",
        "          decoder_target[j, pos-1, word_to_index_fr[word]] = 1.0\n",
        "\n",
        "      decoder_input[j, pos, word_to_index_en['<EOS>']] = 1.0\n",
        "      decoder_target[j, pos:, word_to_index_en['<EOS>']] = 1.0\n",
        "\n",
        "  return encoder_input, decoder_input, decoder_target"
      ],
      "execution_count": 56,
      "outputs": []
    },
    {
      "cell_type": "code",
      "metadata": {
        "id": "0p-USL6E1EER"
      },
      "source": [
        "encoder_input, decoder_input, decoder_target = create_model_data(X_train, Y_train)\n",
        "encoder_input_test, decoder_input_test, decoder_target_test = create_model_data(X_test, Y_test)"
      ],
      "execution_count": 57,
      "outputs": []
    },
    {
      "cell_type": "code",
      "metadata": {
        "id": "FsdPKZtJhvYV"
      },
      "source": [
        "latent_dim=64\n",
        "encoder_inputs = Input(shape=(None, num_encoder_tokens))\n",
        "encoder = LSTM(latent_dim, return_state=True)\n",
        "encoder_outputs, state_h, state_c = encoder(encoder_inputs)\n",
        "\n",
        "encoder_states = [state_h, state_c]\n",
        "\n",
        "decoder_inputs = Input(shape=(None, num_decoder_tokens))\n",
        "\n",
        "decoder_lstm = LSTM(latent_dim, return_sequences=True, return_state=True)\n",
        "decoder_outputs, _, _ = decoder_lstm(decoder_inputs, initial_state=encoder_states)\n",
        "decoder_dense = Dense(num_decoder_tokens, activation=\"softmax\")\n",
        "decoder_outputs = decoder_dense(decoder_outputs)\n",
        "\n",
        "model = Model([encoder_inputs, decoder_inputs], decoder_outputs)"
      ],
      "execution_count": 12,
      "outputs": []
    },
    {
      "cell_type": "code",
      "metadata": {
        "id": "5OA7PAzhpADf"
      },
      "source": [
        "model.compile(optimizer='rmsprop', loss='categorical_crossentropy')"
      ],
      "execution_count": 13,
      "outputs": []
    },
    {
      "cell_type": "code",
      "metadata": {
        "id": "ApGzXQJkpYSc",
        "outputId": "9cb929ff-416b-4ede-f88b-931c6e10cdd6",
        "colab": {
          "base_uri": "https://localhost:8080/"
        }
      },
      "source": [
        "model.compile(\n",
        "    optimizer=\"rmsprop\", loss='categorical_crossentropy', metrics=['accuracy']\n",
        ")\n",
        "\n",
        "model.fit(\n",
        "    [encoder_input, decoder_input],\n",
        "    decoder_target,\n",
        "    batch_size=64,\n",
        "    epochs=100,\n",
        "    validation_split=0.2,\n",
        ")\n",
        "\n",
        "# Save model\n",
        "model.save(\"s2s\")"
      ],
      "execution_count": 14,
      "outputs": [
        {
          "output_type": "stream",
          "text": [
            "Epoch 1/100\n",
            "169/169 [==============================] - 66s 388ms/step - loss: 0.8455 - accuracy: 0.8883 - val_loss: 0.4518 - val_accuracy: 0.8980\n",
            "Epoch 2/100\n",
            "169/169 [==============================] - 65s 382ms/step - loss: 0.4057 - accuracy: 0.9125 - val_loss: 0.3533 - val_accuracy: 0.9199\n",
            "Epoch 3/100\n",
            "169/169 [==============================] - 65s 383ms/step - loss: 0.3083 - accuracy: 0.9276 - val_loss: 0.2635 - val_accuracy: 0.9344\n",
            "Epoch 4/100\n",
            "169/169 [==============================] - 64s 380ms/step - loss: 0.2383 - accuracy: 0.9388 - val_loss: 0.2128 - val_accuracy: 0.9432\n",
            "Epoch 5/100\n",
            "169/169 [==============================] - 65s 383ms/step - loss: 0.1967 - accuracy: 0.9453 - val_loss: 0.1806 - val_accuracy: 0.9471\n",
            "Epoch 6/100\n",
            "169/169 [==============================] - 67s 394ms/step - loss: 0.1734 - accuracy: 0.9482 - val_loss: 0.1775 - val_accuracy: 0.9484\n",
            "Epoch 7/100\n",
            "169/169 [==============================] - 64s 379ms/step - loss: 0.1617 - accuracy: 0.9501 - val_loss: 0.1524 - val_accuracy: 0.9511\n",
            "Epoch 8/100\n",
            "169/169 [==============================] - 64s 381ms/step - loss: 0.1482 - accuracy: 0.9519 - val_loss: 0.1436 - val_accuracy: 0.9523\n",
            "Epoch 9/100\n",
            "169/169 [==============================] - 64s 381ms/step - loss: 0.1408 - accuracy: 0.9532 - val_loss: 0.1378 - val_accuracy: 0.9532\n",
            "Epoch 10/100\n",
            "169/169 [==============================] - 65s 387ms/step - loss: 0.1354 - accuracy: 0.9538 - val_loss: 0.1367 - val_accuracy: 0.9540\n",
            "Epoch 11/100\n",
            "169/169 [==============================] - 64s 378ms/step - loss: 0.1312 - accuracy: 0.9545 - val_loss: 0.1292 - val_accuracy: 0.9548\n",
            "Epoch 12/100\n",
            "169/169 [==============================] - 64s 379ms/step - loss: 0.1280 - accuracy: 0.9552 - val_loss: 0.1274 - val_accuracy: 0.9551\n",
            "Epoch 13/100\n",
            "169/169 [==============================] - 64s 378ms/step - loss: 0.1257 - accuracy: 0.9556 - val_loss: 0.1237 - val_accuracy: 0.9560\n",
            "Epoch 14/100\n",
            "169/169 [==============================] - 64s 379ms/step - loss: 0.1231 - accuracy: 0.9563 - val_loss: 0.1224 - val_accuracy: 0.9563\n",
            "Epoch 15/100\n",
            "169/169 [==============================] - 65s 387ms/step - loss: 0.1205 - accuracy: 0.9570 - val_loss: 0.1218 - val_accuracy: 0.9565\n",
            "Epoch 16/100\n",
            "169/169 [==============================] - 65s 382ms/step - loss: 0.1182 - accuracy: 0.9579 - val_loss: 0.1247 - val_accuracy: 0.9561\n",
            "Epoch 17/100\n",
            "169/169 [==============================] - 64s 381ms/step - loss: 0.1160 - accuracy: 0.9582 - val_loss: 0.1151 - val_accuracy: 0.9585\n",
            "Epoch 18/100\n",
            "169/169 [==============================] - 65s 382ms/step - loss: 0.1142 - accuracy: 0.9588 - val_loss: 0.1174 - val_accuracy: 0.9579\n",
            "Epoch 19/100\n",
            "169/169 [==============================] - 65s 384ms/step - loss: 0.1129 - accuracy: 0.9593 - val_loss: 0.1118 - val_accuracy: 0.9597\n",
            "Epoch 20/100\n",
            "169/169 [==============================] - 65s 383ms/step - loss: 0.1108 - accuracy: 0.9599 - val_loss: 0.1101 - val_accuracy: 0.9602\n",
            "Epoch 21/100\n",
            "169/169 [==============================] - 64s 379ms/step - loss: 0.1093 - accuracy: 0.9605 - val_loss: 0.1086 - val_accuracy: 0.9602\n",
            "Epoch 22/100\n",
            "169/169 [==============================] - 64s 378ms/step - loss: 0.1075 - accuracy: 0.9608 - val_loss: 0.1133 - val_accuracy: 0.9592\n",
            "Epoch 23/100\n",
            "169/169 [==============================] - 64s 381ms/step - loss: 0.1070 - accuracy: 0.9612 - val_loss: 0.1087 - val_accuracy: 0.9607\n",
            "Epoch 24/100\n",
            "169/169 [==============================] - 64s 381ms/step - loss: 0.1073 - accuracy: 0.9612 - val_loss: 0.1100 - val_accuracy: 0.9604\n",
            "Epoch 25/100\n",
            "169/169 [==============================] - 64s 380ms/step - loss: 0.1053 - accuracy: 0.9617 - val_loss: 0.1055 - val_accuracy: 0.9615\n",
            "Epoch 26/100\n",
            "169/169 [==============================] - 64s 381ms/step - loss: 0.1041 - accuracy: 0.9622 - val_loss: 0.1044 - val_accuracy: 0.9616\n",
            "Epoch 27/100\n",
            "169/169 [==============================] - 64s 381ms/step - loss: 0.1047 - accuracy: 0.9623 - val_loss: 0.1063 - val_accuracy: 0.9617\n",
            "Epoch 28/100\n",
            "169/169 [==============================] - 64s 381ms/step - loss: 0.1025 - accuracy: 0.9626 - val_loss: 0.1026 - val_accuracy: 0.9626\n",
            "Epoch 29/100\n",
            "169/169 [==============================] - 65s 385ms/step - loss: 0.1027 - accuracy: 0.9630 - val_loss: 0.1016 - val_accuracy: 0.9630\n",
            "Epoch 30/100\n",
            "169/169 [==============================] - 64s 381ms/step - loss: 0.1029 - accuracy: 0.9631 - val_loss: 0.1038 - val_accuracy: 0.9625\n",
            "Epoch 31/100\n",
            "169/169 [==============================] - 64s 381ms/step - loss: 0.1028 - accuracy: 0.9629 - val_loss: 0.1042 - val_accuracy: 0.9623\n",
            "Epoch 32/100\n",
            "169/169 [==============================] - 64s 381ms/step - loss: 0.1022 - accuracy: 0.9633 - val_loss: 0.1018 - val_accuracy: 0.9631\n",
            "Epoch 33/100\n",
            "169/169 [==============================] - 64s 381ms/step - loss: 0.0998 - accuracy: 0.9638 - val_loss: 0.1023 - val_accuracy: 0.9627\n",
            "Epoch 34/100\n",
            "169/169 [==============================] - 65s 383ms/step - loss: 0.0993 - accuracy: 0.9640 - val_loss: 0.0999 - val_accuracy: 0.9638\n",
            "Epoch 35/100\n",
            "169/169 [==============================] - 64s 379ms/step - loss: 0.0981 - accuracy: 0.9645 - val_loss: 0.0989 - val_accuracy: 0.9644\n",
            "Epoch 36/100\n",
            "169/169 [==============================] - 64s 380ms/step - loss: 0.0974 - accuracy: 0.9647 - val_loss: 0.0985 - val_accuracy: 0.9642\n",
            "Epoch 37/100\n",
            "169/169 [==============================] - 64s 380ms/step - loss: 0.0969 - accuracy: 0.9649 - val_loss: 0.0980 - val_accuracy: 0.9646\n",
            "Epoch 38/100\n",
            "169/169 [==============================] - 64s 381ms/step - loss: 0.0963 - accuracy: 0.9653 - val_loss: 0.0989 - val_accuracy: 0.9634\n",
            "Epoch 39/100\n",
            "169/169 [==============================] - 64s 381ms/step - loss: 0.0955 - accuracy: 0.9656 - val_loss: 0.0978 - val_accuracy: 0.9644\n",
            "Epoch 40/100\n",
            "169/169 [==============================] - 64s 379ms/step - loss: 0.0948 - accuracy: 0.9658 - val_loss: 0.0962 - val_accuracy: 0.9649\n",
            "Epoch 41/100\n",
            "169/169 [==============================] - 64s 379ms/step - loss: 0.0936 - accuracy: 0.9663 - val_loss: 0.0961 - val_accuracy: 0.9654\n",
            "Epoch 42/100\n",
            "169/169 [==============================] - 64s 379ms/step - loss: 0.0934 - accuracy: 0.9666 - val_loss: 0.0949 - val_accuracy: 0.9660\n",
            "Epoch 43/100\n",
            "169/169 [==============================] - 64s 381ms/step - loss: 0.0924 - accuracy: 0.9668 - val_loss: 0.0966 - val_accuracy: 0.9654\n",
            "Epoch 44/100\n",
            "169/169 [==============================] - 64s 380ms/step - loss: 0.0918 - accuracy: 0.9672 - val_loss: 0.0944 - val_accuracy: 0.9665\n",
            "Epoch 45/100\n",
            "169/169 [==============================] - 64s 379ms/step - loss: 0.0982 - accuracy: 0.9656 - val_loss: 0.0938 - val_accuracy: 0.9667\n",
            "Epoch 46/100\n",
            "169/169 [==============================] - 64s 379ms/step - loss: 0.0909 - accuracy: 0.9676 - val_loss: 0.0922 - val_accuracy: 0.9672\n",
            "Epoch 47/100\n",
            "169/169 [==============================] - 64s 379ms/step - loss: 0.0903 - accuracy: 0.9677 - val_loss: 0.0916 - val_accuracy: 0.9672\n",
            "Epoch 48/100\n",
            "169/169 [==============================] - 64s 379ms/step - loss: 0.0894 - accuracy: 0.9680 - val_loss: 0.0923 - val_accuracy: 0.9669\n",
            "Epoch 49/100\n",
            "169/169 [==============================] - 64s 381ms/step - loss: 0.0881 - accuracy: 0.9686 - val_loss: 0.0907 - val_accuracy: 0.9677\n",
            "Epoch 50/100\n",
            "169/169 [==============================] - 64s 380ms/step - loss: 0.0879 - accuracy: 0.9686 - val_loss: 0.0920 - val_accuracy: 0.9669\n",
            "Epoch 51/100\n",
            "169/169 [==============================] - 64s 378ms/step - loss: 0.0875 - accuracy: 0.9686 - val_loss: 0.0895 - val_accuracy: 0.9682\n",
            "Epoch 52/100\n",
            "169/169 [==============================] - 64s 379ms/step - loss: 0.0874 - accuracy: 0.9692 - val_loss: 0.0907 - val_accuracy: 0.9677\n",
            "Epoch 53/100\n",
            "169/169 [==============================] - 64s 381ms/step - loss: 0.0921 - accuracy: 0.9678 - val_loss: 0.0907 - val_accuracy: 0.9678\n",
            "Epoch 54/100\n",
            "169/169 [==============================] - 64s 382ms/step - loss: 0.0877 - accuracy: 0.9689 - val_loss: 0.0978 - val_accuracy: 0.9658\n",
            "Epoch 55/100\n",
            "169/169 [==============================] - 64s 379ms/step - loss: 0.0909 - accuracy: 0.9678 - val_loss: 0.0905 - val_accuracy: 0.9682\n",
            "Epoch 56/100\n",
            "169/169 [==============================] - 64s 377ms/step - loss: 0.0853 - accuracy: 0.9697 - val_loss: 0.0941 - val_accuracy: 0.9661\n",
            "Epoch 57/100\n",
            "169/169 [==============================] - 64s 379ms/step - loss: 0.0850 - accuracy: 0.9698 - val_loss: 0.0873 - val_accuracy: 0.9688\n",
            "Epoch 58/100\n",
            "169/169 [==============================] - 64s 380ms/step - loss: 0.0841 - accuracy: 0.9701 - val_loss: 0.0867 - val_accuracy: 0.9694\n",
            "Epoch 59/100\n",
            "169/169 [==============================] - 65s 382ms/step - loss: 0.0835 - accuracy: 0.9703 - val_loss: 0.0870 - val_accuracy: 0.9687\n",
            "Epoch 60/100\n",
            "169/169 [==============================] - 64s 380ms/step - loss: 0.0816 - accuracy: 0.9711 - val_loss: 0.0863 - val_accuracy: 0.9694\n",
            "Epoch 61/100\n",
            "169/169 [==============================] - 64s 380ms/step - loss: 0.0824 - accuracy: 0.9707 - val_loss: 0.0856 - val_accuracy: 0.9695\n",
            "Epoch 62/100\n",
            "169/169 [==============================] - 65s 383ms/step - loss: 0.0819 - accuracy: 0.9710 - val_loss: 0.0852 - val_accuracy: 0.9698\n",
            "Epoch 63/100\n",
            "169/169 [==============================] - 64s 380ms/step - loss: 0.0815 - accuracy: 0.9712 - val_loss: 0.0858 - val_accuracy: 0.9695\n",
            "Epoch 64/100\n",
            "169/169 [==============================] - 65s 382ms/step - loss: 0.0806 - accuracy: 0.9714 - val_loss: 0.0838 - val_accuracy: 0.9701\n",
            "Epoch 65/100\n",
            "169/169 [==============================] - 64s 380ms/step - loss: 0.0800 - accuracy: 0.9717 - val_loss: 0.0924 - val_accuracy: 0.9679\n",
            "Epoch 66/100\n",
            "169/169 [==============================] - 65s 382ms/step - loss: 0.0795 - accuracy: 0.9721 - val_loss: 0.0845 - val_accuracy: 0.9702\n",
            "Epoch 67/100\n",
            "169/169 [==============================] - 65s 385ms/step - loss: 0.0785 - accuracy: 0.9724 - val_loss: 0.0869 - val_accuracy: 0.9692\n",
            "Epoch 68/100\n",
            "169/169 [==============================] - 64s 381ms/step - loss: 0.0774 - accuracy: 0.9729 - val_loss: 0.0817 - val_accuracy: 0.9713\n",
            "Epoch 69/100\n",
            "169/169 [==============================] - 65s 384ms/step - loss: 0.0771 - accuracy: 0.9731 - val_loss: 0.0828 - val_accuracy: 0.9709\n",
            "Epoch 70/100\n",
            "169/169 [==============================] - 65s 382ms/step - loss: 0.0764 - accuracy: 0.9733 - val_loss: 0.0808 - val_accuracy: 0.9719\n",
            "Epoch 71/100\n",
            "169/169 [==============================] - 64s 382ms/step - loss: 0.0757 - accuracy: 0.9736 - val_loss: 0.0793 - val_accuracy: 0.9725\n",
            "Epoch 72/100\n",
            "169/169 [==============================] - 64s 380ms/step - loss: 0.0747 - accuracy: 0.9740 - val_loss: 0.0825 - val_accuracy: 0.9710\n",
            "Epoch 73/100\n",
            "169/169 [==============================] - 64s 379ms/step - loss: 0.0744 - accuracy: 0.9741 - val_loss: 0.0800 - val_accuracy: 0.9725\n",
            "Epoch 74/100\n",
            "169/169 [==============================] - 65s 383ms/step - loss: 0.0730 - accuracy: 0.9745 - val_loss: 0.0772 - val_accuracy: 0.9732\n",
            "Epoch 75/100\n",
            "169/169 [==============================] - 64s 380ms/step - loss: 0.0728 - accuracy: 0.9747 - val_loss: 0.0772 - val_accuracy: 0.9730\n",
            "Epoch 76/100\n",
            "169/169 [==============================] - 65s 382ms/step - loss: 0.0720 - accuracy: 0.9748 - val_loss: 0.0789 - val_accuracy: 0.9725\n",
            "Epoch 77/100\n",
            "169/169 [==============================] - 64s 381ms/step - loss: 0.0715 - accuracy: 0.9750 - val_loss: 0.0760 - val_accuracy: 0.9736\n",
            "Epoch 78/100\n",
            "169/169 [==============================] - 64s 381ms/step - loss: 0.0710 - accuracy: 0.9753 - val_loss: 0.0821 - val_accuracy: 0.9717\n",
            "Epoch 79/100\n",
            "169/169 [==============================] - 64s 381ms/step - loss: 0.0708 - accuracy: 0.9753 - val_loss: 0.0745 - val_accuracy: 0.9740\n",
            "Epoch 80/100\n",
            "169/169 [==============================] - 64s 379ms/step - loss: 0.0693 - accuracy: 0.9757 - val_loss: 0.0728 - val_accuracy: 0.9747\n",
            "Epoch 81/100\n",
            "169/169 [==============================] - 64s 380ms/step - loss: 0.0692 - accuracy: 0.9759 - val_loss: 0.0749 - val_accuracy: 0.9743\n",
            "Epoch 82/100\n",
            "169/169 [==============================] - 64s 379ms/step - loss: 0.0681 - accuracy: 0.9763 - val_loss: 0.0797 - val_accuracy: 0.9719\n",
            "Epoch 83/100\n",
            "169/169 [==============================] - 64s 381ms/step - loss: 0.0673 - accuracy: 0.9763 - val_loss: 0.0746 - val_accuracy: 0.9739\n",
            "Epoch 84/100\n",
            "169/169 [==============================] - 64s 381ms/step - loss: 0.0665 - accuracy: 0.9767 - val_loss: 0.0724 - val_accuracy: 0.9747\n",
            "Epoch 85/100\n",
            "169/169 [==============================] - 64s 379ms/step - loss: 0.0682 - accuracy: 0.9764 - val_loss: 0.0903 - val_accuracy: 0.9702\n",
            "Epoch 86/100\n",
            "169/169 [==============================] - 64s 381ms/step - loss: 0.0694 - accuracy: 0.9759 - val_loss: 0.0743 - val_accuracy: 0.9740\n",
            "Epoch 87/100\n",
            "169/169 [==============================] - 64s 378ms/step - loss: 0.0657 - accuracy: 0.9771 - val_loss: 0.0717 - val_accuracy: 0.9747\n",
            "Epoch 88/100\n",
            "169/169 [==============================] - 64s 380ms/step - loss: 0.0657 - accuracy: 0.9770 - val_loss: 0.0726 - val_accuracy: 0.9747\n",
            "Epoch 89/100\n",
            "169/169 [==============================] - 65s 382ms/step - loss: 0.0648 - accuracy: 0.9772 - val_loss: 0.0712 - val_accuracy: 0.9751\n",
            "Epoch 90/100\n",
            "169/169 [==============================] - 64s 381ms/step - loss: 0.0644 - accuracy: 0.9772 - val_loss: 0.0696 - val_accuracy: 0.9755\n",
            "Epoch 91/100\n",
            "169/169 [==============================] - 64s 380ms/step - loss: 0.0638 - accuracy: 0.9773 - val_loss: 0.0710 - val_accuracy: 0.9749\n",
            "Epoch 92/100\n",
            "169/169 [==============================] - 64s 380ms/step - loss: 0.0628 - accuracy: 0.9778 - val_loss: 0.0686 - val_accuracy: 0.9756\n",
            "Epoch 93/100\n",
            "169/169 [==============================] - 64s 382ms/step - loss: 0.0620 - accuracy: 0.9780 - val_loss: 0.0679 - val_accuracy: 0.9760\n",
            "Epoch 94/100\n",
            "169/169 [==============================] - 65s 383ms/step - loss: 0.0613 - accuracy: 0.9783 - val_loss: 0.0685 - val_accuracy: 0.9756\n",
            "Epoch 95/100\n",
            "169/169 [==============================] - 64s 380ms/step - loss: 0.0605 - accuracy: 0.9786 - val_loss: 0.0658 - val_accuracy: 0.9768\n",
            "Epoch 96/100\n",
            "169/169 [==============================] - 64s 380ms/step - loss: 0.0599 - accuracy: 0.9787 - val_loss: 0.0714 - val_accuracy: 0.9749\n",
            "Epoch 97/100\n",
            "169/169 [==============================] - 64s 378ms/step - loss: 0.0593 - accuracy: 0.9791 - val_loss: 0.0649 - val_accuracy: 0.9772\n",
            "Epoch 98/100\n",
            "169/169 [==============================] - 64s 380ms/step - loss: 0.0585 - accuracy: 0.9793 - val_loss: 0.0656 - val_accuracy: 0.9769\n",
            "Epoch 99/100\n",
            "169/169 [==============================] - 64s 379ms/step - loss: 0.0577 - accuracy: 0.9795 - val_loss: 0.0648 - val_accuracy: 0.9772\n",
            "Epoch 100/100\n",
            "169/169 [==============================] - 64s 381ms/step - loss: 0.0573 - accuracy: 0.9796 - val_loss: 0.0668 - val_accuracy: 0.9766\n",
            "WARNING:tensorflow:From /usr/local/lib/python3.6/dist-packages/tensorflow/python/training/tracking/tracking.py:111: Model.state_updates (from tensorflow.python.keras.engine.training) is deprecated and will be removed in a future version.\n",
            "Instructions for updating:\n",
            "This property should not be used in TensorFlow 2.0, as updates are applied automatically.\n",
            "WARNING:tensorflow:From /usr/local/lib/python3.6/dist-packages/tensorflow/python/training/tracking/tracking.py:111: Layer.updates (from tensorflow.python.keras.engine.base_layer) is deprecated and will be removed in a future version.\n",
            "Instructions for updating:\n",
            "This property should not be used in TensorFlow 2.0, as updates are applied automatically.\n",
            "INFO:tensorflow:Assets written to: s2s/assets\n"
          ],
          "name": "stdout"
        }
      ]
    },
    {
      "cell_type": "code",
      "metadata": {
        "id": "Z2BjphAwrEPZ"
      },
      "source": [
        "# Define sampling models\n",
        "# Restore the model and construct the encoder and decoder.\n",
        "model = load_model(\"s2s\")\n",
        "\n",
        "encoder_inputs = model.input[0]  # input_1\n",
        "encoder_outputs, state_h_enc, state_c_enc = model.layers[2].output  # lstm_1\n",
        "encoder_states = [state_h_enc, state_c_enc]\n",
        "encoder_model = Model(encoder_inputs, encoder_states)\n",
        "\n",
        "decoder_inputs = model.input[1]  # input_2\n",
        "decoder_state_input_h = Input(shape=(latent_dim,), name=\"input_3\")\n",
        "decoder_state_input_c = Input(shape=(latent_dim,), name=\"input_4\")\n",
        "decoder_states_inputs = [decoder_state_input_h, decoder_state_input_c]\n",
        "decoder_lstm = model.layers[3]\n",
        "decoder_outputs, state_h_dec, state_c_dec = decoder_lstm(\n",
        "    decoder_inputs, initial_state=decoder_states_inputs\n",
        ")\n",
        "decoder_states = [state_h_dec, state_c_dec]\n",
        "decoder_dense = model.layers[4]\n",
        "decoder_outputs = decoder_dense(decoder_outputs)\n",
        "decoder_model = Model(\n",
        "    [decoder_inputs] + decoder_states_inputs, [decoder_outputs] + decoder_states\n",
        ")\n"
      ],
      "execution_count": 41,
      "outputs": []
    },
    {
      "cell_type": "code",
      "metadata": {
        "id": "FNNeQTYKrJsZ"
      },
      "source": [
        "def decode_sequence(input_seq):\n",
        "    states_value = encoder_model.predict(input_seq)\n",
        "\n",
        "    target_seq = np.zeros((1, 1, num_decoder_tokens))\n",
        "\n",
        "    target_seq[0, 0, word_to_index_fr[\"<SOS>\"]] = 1.0\n",
        "\n",
        "\n",
        "    stop_condition = False\n",
        "    decoded_sentence = \"\"\n",
        "    while not stop_condition:\n",
        "        output_tokens, h, c = decoder_model.predict([target_seq] + states_value)\n",
        "\n",
        "        # Sample a token\n",
        "        sampled_token_index = np.argmax(output_tokens[0, -1, :])\n",
        "        sampled_char = index_to_word_fr[sampled_token_index]\n",
        "        decoded_sentence += sampled_char+\" \"\n",
        "\n",
        "        # Exit condition: either hit max length\n",
        "        # or find stop character.\n",
        "        if sampled_char == \"<EOS>\" or len(decoded_sentence) > max_len_fr:\n",
        "            stop_condition = True\n",
        "\n",
        "        # Update the target sequence (of length 1).\n",
        "        target_seq = np.zeros((1, 1, num_decoder_tokens))\n",
        "        target_seq[0, 0, sampled_token_index] = 1.0\n",
        "\n",
        "        # Update states\n",
        "        states_value = [h, c]\n",
        "    return decoded_sentence\n"
      ],
      "execution_count": 53,
      "outputs": []
    },
    {
      "cell_type": "code",
      "metadata": {
        "id": "zo-Hl9RsujwT",
        "outputId": "e4b8f98e-0ac2-4806-8fae-9462f7c21619",
        "colab": {
          "base_uri": "https://localhost:8080/"
        }
      },
      "source": [
        "for seq_index in range(20):\n",
        "    # Take one sequence (part of the training set)\n",
        "    # for trying out decoding.\n",
        "    input_seq = encoder_input_test[seq_index : seq_index + 1]\n",
        "    decoded_sentence = decode_sequence(input_seq)\n",
        "    print(\"-\")\n",
        "    print(\"Input sentence:\", X_test[seq_index])\n",
        "    print(\"Decoded sentence:\", decoded_sentence)\n",
        "    print(\"Real sentence:\", Y_test[seq_index])"
      ],
      "execution_count": 58,
      "outputs": [
        {
          "output_type": "stream",
          "text": [
            "-\n",
            "Input sentence: <SOS> the banana is their least favorite fruit  but the grape is your least favorite <EOS>\n",
            "Decoded sentence: la banane est son fruit préféré moins mais la pomme est leur moins préférée <EOS> \n",
            "Real sentence: <SOS> la banane est leur fruit préféré moins  mais le raisin est votre préféré moins <EOS>\n",
            "-\n",
            "Input sentence: <SOS> china is usually wet during september  and it is usually pleasant in january <EOS>\n",
            "Decoded sentence: chine est généralement humide en mars et il est généralement agréable en janvier <EOS> \n",
            "Real sentence: <SOS> chine est généralement humide en septembre  et il est généralement agréable en janvier <EOS>\n",
            "-\n",
            "Input sentence: <SOS> she dislikes grapefruit and mangoes <EOS>\n",
            "Decoded sentence: elle déteste le pamplemousse et les raisins <EOS> \n",
            "Real sentence: <SOS> elle déteste le pamplemousse et les mangues <EOS>\n",
            "-\n",
            "Input sentence: <SOS> france is sometimes wet during september  but it is sometimes relaxing in spring <EOS>\n",
            "Decoded sentence: la france est parfois calme au mois de mai mais il est parfois doux en mars <EOS> \n",
            "Real sentence: <SOS> la france est parfois humide en septembre  mais il est relaxant parfois au printemps <EOS>\n",
            "-\n",
            "Input sentence: <SOS> i dislike limes  apples  and grapefruit <EOS>\n",
            "Decoded sentence: je naime pas citrons verts les pommes et le pamplemousse <EOS> \n",
            "Real sentence: <SOS> je naime pas citrons verts  les pommes et le pamplemousse <EOS>\n",
            "-\n",
            "Input sentence: <SOS> your favorite fruit is the apple  but my favorite is the grape <EOS>\n",
            "Decoded sentence: son fruit préféré est la banane mais mon préféré est la mangue <EOS> \n",
            "Real sentence: <SOS> votre fruit préféré est la pomme  mais mon préféré est le raisin <EOS>\n",
            "-\n",
            "Input sentence: <SOS> i plan to visit france next spring <EOS>\n",
            "Decoded sentence: je prévois de visiter la californie en août <EOS> \n",
            "Real sentence: <SOS> je prévois de visiter la france au printemps prochain <EOS>\n",
            "-\n",
            "Input sentence: <SOS> she likes that rusty green automobile <EOS>\n",
            "Decoded sentence: il aime pas les raisins et les fraises <EOS> \n",
            "Real sentence: <SOS> elle aime cette automobile verte rouillée <EOS>\n",
            "-\n",
            "Input sentence: <SOS> india is sometimes relaxing during august  and it is usually hot in october <EOS>\n",
            "Decoded sentence: l inde est habituellement chaud en septembre mais il est généralement agréable en été <EOS> \n",
            "Real sentence: <SOS> l inde est relaxant parfois au mois d août  et il est généralement chaud en octobre <EOS>\n",
            "-\n",
            "Input sentence: <SOS> the united states is never hot during may  but it is usually beautiful in spring <EOS>\n",
            "Decoded sentence: les étatsunis est jamais chaud au mois de mai mais il est généralement chaud en novembre <EOS> \n",
            "Real sentence: <SOS> les étatsunis est jamais chaud au mois de mai  mais il est généralement beau au printemps <EOS>\n",
            "-\n",
            "Input sentence: <SOS> china is pleasant during october  and it is never quiet in april <EOS>\n",
            "Decoded sentence: chine est agréable en juin et il est jamais froid en février <EOS> \n",
            "Real sentence: <SOS> chine est agréable au mois d octobre  et il est jamais tranquille en avril <EOS>\n",
            "-\n",
            "Input sentence: <SOS> she was driving a little red truck <EOS>\n",
            "Decoded sentence: elle conduisait une voiture verte rouillée <EOS> \n",
            "Real sentence: <SOS> elle conduisait un petit camion rouge <EOS>\n",
            "-\n",
            "Input sentence: <SOS> my favorite fruit is the grapefruit  but her favorite is the banana <EOS>\n",
            "Decoded sentence: son fruit le plus aimé est la mangue mais leur plus aimé est le pamplemousse <EOS> \n",
            "Real sentence: <SOS> mon fruit préféré est le pamplemousse  mais son préféré est la banane <EOS>\n",
            "-\n",
            "Input sentence: <SOS> your most loved fruit is the orange  but my most loved is the strawberry <EOS>\n",
            "Decoded sentence: votre fruit le plus aimé est la mangue mais leur plus aimé est le citron <EOS> \n",
            "Real sentence: <SOS> votre fruit le plus aimé est lorange  mais mon plus aimé est la fraise <EOS>\n",
            "-\n",
            "Input sentence: <SOS> paris is usually chilly during march  but it is usually wonderful in fall <EOS>\n",
            "Decoded sentence: paris est généralement froid pendant l hiver mais il est généralement agréable en octobre <EOS> \n",
            "Real sentence: <SOS> paris est généralement froid au mois de mars  mais il est généralement merveilleux à l automne <EOS>\n",
            "-\n",
            "Input sentence: <SOS> india is never quiet during april  but it is sometimes chilly in september <EOS>\n",
            "Decoded sentence: l inde est jamais pluvieux en juillet mais il est parfois froid en mai <EOS> \n",
            "Real sentence: <SOS> l inde est jamais tranquille en avril  mais il est parfois frisquet en septembre <EOS>\n",
            "-\n",
            "Input sentence: <SOS> new jersey is warm during october  but it is never hot in autumn <EOS>\n",
            "Decoded sentence: new jersey est chaud en février mais il est généralement froid en août <EOS> \n",
            "Real sentence: <SOS> new jersey est chaud au mois d octobre  mais il est jamais chaud à l automne <EOS>\n",
            "-\n",
            "Input sentence: <SOS> india is never wet during winter  and it is usually cold in spring <EOS>\n",
            "Decoded sentence: l inde est jamais humide en mars et il est généralement doux en octobre <EOS> \n",
            "Real sentence: <SOS> l inde est jamais mouillé pendant l hiver  et il est généralement froid au printemps <EOS>\n",
            "-\n",
            "Input sentence: <SOS> he likes oranges  grapes  and apples <EOS>\n",
            "Decoded sentence: elle aime les pêches les bananes et les raisins <EOS> \n",
            "Real sentence: <SOS> il aime les oranges  les raisins et les pommes <EOS>\n",
            "-\n",
            "Input sentence: <SOS> the grape is our least liked fruit  but the lemon is my least liked <EOS>\n",
            "Decoded sentence: le raisin est leur fruit moins aimé mais le citron est son moins aimé <EOS> \n",
            "Real sentence: <SOS> le raisin est notre fruit moins aimé  mais le citron est mon moins aimé <EOS>\n"
          ],
          "name": "stdout"
        }
      ]
    },
    {
      "cell_type": "code",
      "metadata": {
        "id": "WAwr7ppwvZqi"
      },
      "source": [
        ""
      ],
      "execution_count": 54,
      "outputs": []
    },
    {
      "cell_type": "code",
      "metadata": {
        "id": "To2VSj_UwWSp"
      },
      "source": [
        ""
      ],
      "execution_count": null,
      "outputs": []
    }
  ]
}