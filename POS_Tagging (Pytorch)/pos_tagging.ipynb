{
  "nbformat": 4,
  "nbformat_minor": 0,
  "metadata": {
    "colab": {
      "name": "pos_tagging.ipynb",
      "provenance": [],
      "collapsed_sections": [],
      "authorship_tag": "ABX9TyNowjlDZ0Jm2aAcOsMCjZSb",
      "include_colab_link": true
    },
    "kernelspec": {
      "name": "python3",
      "display_name": "Python 3"
    }
  },
  "cells": [
    {
      "cell_type": "markdown",
      "metadata": {
        "id": "view-in-github",
        "colab_type": "text"
      },
      "source": [
        "<a href=\"https://colab.research.google.com/github/DelmiroDaladier/NLP-studies/blob/master/POS_Tagging%20(Pytorch)/pos_tagging.ipynb\" target=\"_parent\"><img src=\"https://colab.research.google.com/assets/colab-badge.svg\" alt=\"Open In Colab\"/></a>"
      ]
    },
    {
      "cell_type": "code",
      "metadata": {
        "id": "YkKSMwR50E2f",
        "colab": {
          "base_uri": "https://localhost:8080/"
        },
        "outputId": "5f491f97-de39-4a2e-9d9d-f2ab580075c9"
      },
      "source": [
        "import pandas as pd\n",
        "\n",
        "import nltk\n",
        "import string\n",
        "from nltk.corpus import brown\n",
        "\n",
        "import torch\n",
        "import torch.nn as nn\n",
        "import torch.nn.functional as F\n",
        "import torch.optim as optim\n",
        "\n",
        "torch.manual_seed(1)"
      ],
      "execution_count": 2,
      "outputs": [
        {
          "output_type": "execute_result",
          "data": {
            "text/plain": [
              "<torch._C.Generator at 0x7f3337e36f60>"
            ]
          },
          "metadata": {
            "tags": []
          },
          "execution_count": 2
        }
      ]
    },
    {
      "cell_type": "code",
      "metadata": {
        "colab": {
          "base_uri": "https://localhost:8080/"
        },
        "id": "0NRjOpB3Rapp",
        "outputId": "a059ccba-2413-4f45-a836-092eee88841b"
      },
      "source": [
        "nltk.download('brown')"
      ],
      "execution_count": 3,
      "outputs": [
        {
          "output_type": "stream",
          "text": [
            "[nltk_data] Downloading package brown to /root/nltk_data...\n",
            "[nltk_data]   Unzipping corpora/brown.zip.\n"
          ],
          "name": "stdout"
        },
        {
          "output_type": "execute_result",
          "data": {
            "text/plain": [
              "True"
            ]
          },
          "metadata": {
            "tags": []
          },
          "execution_count": 3
        }
      ]
    },
    {
      "cell_type": "code",
      "metadata": {
        "id": "W25o0tqML9iI"
      },
      "source": [
        "def prepare_sequence(seq, to_ix):\n",
        "    idxs = [to_ix[w] for w in seq]\n",
        "    return torch.tensor(idxs, dtype=torch.long)"
      ],
      "execution_count": 4,
      "outputs": []
    },
    {
      "cell_type": "code",
      "metadata": {
        "id": "kwmoXZtp0IC1"
      },
      "source": [
        "word_to_index = {}\n",
        "tag_to_index = {}\n",
        "index_to_tag = {}\n",
        "tagged_sentences = brown.tagged_sents()\n",
        "punctuation = string.punctuation\n",
        "\n",
        "for sentence in tagged_sentences:\n",
        "  for word, tag in sentence:\n",
        "    if word not in word_to_index and  word not in punctuation:\n",
        "      word_to_index[word] = len(word_to_index)\n",
        "    if tag not in tag_to_index and tag not in punctuation:\n",
        "      tag_to_index[tag] = len(tag_to_index)\n",
        "      index_to_tag[len(tag_to_index)-1] = tag"
      ],
      "execution_count": 5,
      "outputs": []
    },
    {
      "cell_type": "code",
      "metadata": {
        "id": "8L6vTNmyOdQv"
      },
      "source": [
        "data = []\n",
        "for sentence in tagged_sentences:\n",
        "  sentence_words = []\n",
        "  sentence_tags = []\n",
        "  for word, tag in sentence:\n",
        "    if word in word_to_index and tag in tag_to_index:\n",
        "      sentence_words.append(word)\n",
        "      sentence_tags.append(tag)\n",
        "  data.append((sentence_words, sentence_tags))"
      ],
      "execution_count": 6,
      "outputs": []
    },
    {
      "cell_type": "code",
      "metadata": {
        "id": "Gxuec_13Rpjp"
      },
      "source": [
        "train_data = data[0:2000]\n",
        "train_data = [pair for pair in train_data if len(pair[0]) > 0 and len(pair[1]) > 0  ]\n",
        "\n",
        "test_data = data[2000:]\n",
        "test_data = [pair for pair in test_data if len(pair[0]) > 0 and len(pair[1]) > 0  ]"
      ],
      "execution_count": 7,
      "outputs": []
    },
    {
      "cell_type": "code",
      "metadata": {
        "id": "Ijd82_NNPwHM"
      },
      "source": [
        "class PosTagger(nn.Module):\n",
        "\n",
        "  def __init__(self, embedding_dim, hidden_dim, vocab_size, target_size):\n",
        "    super(PosTagger, self).__init__()\n",
        "    self.hidden_dim = hidden_dim\n",
        "    self.word_embeddings = nn.Embedding(vocab_size, embedding_dim)\n",
        "    self.lstm = nn.LSTM(embedding_dim, hidden_dim)\n",
        "    self.hidden2tag = nn.Linear(hidden_dim, target_size)\n",
        "\n",
        "  def forward(self, sentence):\n",
        "    embeds = self.word_embeddings(sentence)\n",
        "    lstm_out, _ = self.lstm(embeds.view(len(sentence), 1, -1))\n",
        "    tag_space = self.hidden2tag(lstm_out.view(len(sentence), -1))\n",
        "    tag_scores = F.log_softmax(tag_space, dim=1)\n",
        "    return tag_scores"
      ],
      "execution_count": 8,
      "outputs": []
    },
    {
      "cell_type": "code",
      "metadata": {
        "colab": {
          "base_uri": "https://localhost:8080/"
        },
        "id": "8V3XHnPuQVcy",
        "outputId": "d3da2e93-75a9-4ebc-e759-0cc6bf6d0111"
      },
      "source": [
        "EMBEDDING_DIM = 6\n",
        "HIDDEN_DIM = 6\n",
        "model = PosTagger(EMBEDDING_DIM, HIDDEN_DIM, len(word_to_index), len(tag_to_index))\n",
        "loss_function = nn.NLLLoss()\n",
        "optimizer = optim.SGD(model.parameters(), lr=0.1)\n",
        "\n",
        "for epoch in range(2000):\n",
        "  print(f'Epoch:{epoch}')\n",
        "  for sentence, tags in train_data:\n",
        "    model.zero_grad()\n",
        "\n",
        "    sentence_in = prepare_sequence(sentence, word_to_index)\n",
        "    targets = prepare_sequence(tags, tag_to_index)\n",
        "\n",
        "    tag_scores = model(sentence_in)\n",
        "\n",
        "    loss = loss_function(tag_scores, targets)\n",
        "    loss.backward()\n",
        "    optimizer.step()\n"
      ],
      "execution_count": null,
      "outputs": [
        {
          "output_type": "stream",
          "text": [
            "Epoch:0\n",
            "Epoch:1\n",
            "Epoch:2\n",
            "Epoch:3\n",
            "Epoch:4\n",
            "Epoch:5\n",
            "Epoch:6\n",
            "Epoch:7\n",
            "Epoch:8\n",
            "Epoch:9\n",
            "Epoch:10\n",
            "Epoch:11\n",
            "Epoch:12\n",
            "Epoch:13\n",
            "Epoch:14\n",
            "Epoch:15\n",
            "Epoch:16\n",
            "Epoch:17\n",
            "Epoch:18\n",
            "Epoch:19\n",
            "Epoch:20\n",
            "Epoch:21\n",
            "Epoch:22\n",
            "Epoch:23\n",
            "Epoch:24\n",
            "Epoch:25\n",
            "Epoch:26\n",
            "Epoch:27\n",
            "Epoch:28\n",
            "Epoch:29\n",
            "Epoch:30\n",
            "Epoch:31\n",
            "Epoch:32\n",
            "Epoch:33\n",
            "Epoch:34\n",
            "Epoch:35\n",
            "Epoch:36\n",
            "Epoch:37\n",
            "Epoch:38\n",
            "Epoch:39\n",
            "Epoch:40\n",
            "Epoch:41\n",
            "Epoch:42\n",
            "Epoch:43\n",
            "Epoch:44\n",
            "Epoch:45\n",
            "Epoch:46\n",
            "Epoch:47\n",
            "Epoch:48\n",
            "Epoch:49\n",
            "Epoch:50\n",
            "Epoch:51\n",
            "Epoch:52\n",
            "Epoch:53\n",
            "Epoch:54\n",
            "Epoch:55\n",
            "Epoch:56\n",
            "Epoch:57\n",
            "Epoch:58\n",
            "Epoch:59\n",
            "Epoch:60\n",
            "Epoch:61\n",
            "Epoch:62\n",
            "Epoch:63\n",
            "Epoch:64\n",
            "Epoch:65\n",
            "Epoch:66\n",
            "Epoch:67\n",
            "Epoch:68\n",
            "Epoch:69\n",
            "Epoch:70\n",
            "Epoch:71\n",
            "Epoch:72\n",
            "Epoch:73\n",
            "Epoch:74\n",
            "Epoch:75\n",
            "Epoch:76\n",
            "Epoch:77\n",
            "Epoch:78\n",
            "Epoch:79\n",
            "Epoch:80\n",
            "Epoch:81\n",
            "Epoch:82\n",
            "Epoch:83\n",
            "Epoch:84\n",
            "Epoch:85\n",
            "Epoch:86\n",
            "Epoch:87\n",
            "Epoch:88\n",
            "Epoch:89\n",
            "Epoch:90\n",
            "Epoch:91\n",
            "Epoch:92\n",
            "Epoch:93\n",
            "Epoch:94\n",
            "Epoch:95\n",
            "Epoch:96\n",
            "Epoch:97\n",
            "Epoch:98\n",
            "Epoch:99\n",
            "Epoch:100\n",
            "Epoch:101\n",
            "Epoch:102\n",
            "Epoch:103\n",
            "Epoch:104\n",
            "Epoch:105\n",
            "Epoch:106\n",
            "Epoch:107\n",
            "Epoch:108\n",
            "Epoch:109\n",
            "Epoch:110\n",
            "Epoch:111\n",
            "Epoch:112\n",
            "Epoch:113\n",
            "Epoch:114\n",
            "Epoch:115\n",
            "Epoch:116\n",
            "Epoch:117\n",
            "Epoch:118\n",
            "Epoch:119\n",
            "Epoch:120\n",
            "Epoch:121\n",
            "Epoch:122\n",
            "Epoch:123\n",
            "Epoch:124\n",
            "Epoch:125\n",
            "Epoch:126\n",
            "Epoch:127\n",
            "Epoch:128\n",
            "Epoch:129\n",
            "Epoch:130\n",
            "Epoch:131\n",
            "Epoch:132\n",
            "Epoch:133\n",
            "Epoch:134\n",
            "Epoch:135\n",
            "Epoch:136\n",
            "Epoch:137\n",
            "Epoch:138\n",
            "Epoch:139\n",
            "Epoch:140\n",
            "Epoch:141\n",
            "Epoch:142\n",
            "Epoch:143\n",
            "Epoch:144\n",
            "Epoch:145\n",
            "Epoch:146\n",
            "Epoch:147\n",
            "Epoch:148\n",
            "Epoch:149\n",
            "Epoch:150\n",
            "Epoch:151\n",
            "Epoch:152\n",
            "Epoch:153\n",
            "Epoch:154\n",
            "Epoch:155\n",
            "Epoch:156\n",
            "Epoch:157\n",
            "Epoch:158\n",
            "Epoch:159\n",
            "Epoch:160\n",
            "Epoch:161\n",
            "Epoch:162\n",
            "Epoch:163\n",
            "Epoch:164\n",
            "Epoch:165\n",
            "Epoch:166\n",
            "Epoch:167\n",
            "Epoch:168\n",
            "Epoch:169\n",
            "Epoch:170\n",
            "Epoch:171\n",
            "Epoch:172\n",
            "Epoch:173\n",
            "Epoch:174\n",
            "Epoch:175\n",
            "Epoch:176\n",
            "Epoch:177\n",
            "Epoch:178\n",
            "Epoch:179\n",
            "Epoch:180\n",
            "Epoch:181\n",
            "Epoch:182\n",
            "Epoch:183\n",
            "Epoch:184\n",
            "Epoch:185\n",
            "Epoch:186\n",
            "Epoch:187\n",
            "Epoch:188\n",
            "Epoch:189\n",
            "Epoch:190\n",
            "Epoch:191\n",
            "Epoch:192\n",
            "Epoch:193\n",
            "Epoch:194\n",
            "Epoch:195\n",
            "Epoch:196\n",
            "Epoch:197\n",
            "Epoch:198\n",
            "Epoch:199\n",
            "Epoch:200\n",
            "Epoch:201\n",
            "Epoch:202\n",
            "Epoch:203\n",
            "Epoch:204\n",
            "Epoch:205\n",
            "Epoch:206\n",
            "Epoch:207\n",
            "Epoch:208\n",
            "Epoch:209\n",
            "Epoch:210\n",
            "Epoch:211\n",
            "Epoch:212\n",
            "Epoch:213\n",
            "Epoch:214\n",
            "Epoch:215\n",
            "Epoch:216\n",
            "Epoch:217\n",
            "Epoch:218\n",
            "Epoch:219\n",
            "Epoch:220\n",
            "Epoch:221\n",
            "Epoch:222\n",
            "Epoch:223\n",
            "Epoch:224\n",
            "Epoch:225\n",
            "Epoch:226\n",
            "Epoch:227\n",
            "Epoch:228\n",
            "Epoch:229\n",
            "Epoch:230\n",
            "Epoch:231\n",
            "Epoch:232\n",
            "Epoch:233\n",
            "Epoch:234\n",
            "Epoch:235\n",
            "Epoch:236\n",
            "Epoch:237\n",
            "Epoch:238\n",
            "Epoch:239\n",
            "Epoch:240\n",
            "Epoch:241\n",
            "Epoch:242\n",
            "Epoch:243\n",
            "Epoch:244\n",
            "Epoch:245\n",
            "Epoch:246\n",
            "Epoch:247\n"
          ],
          "name": "stdout"
        }
      ]
    },
    {
      "cell_type": "code",
      "metadata": {
        "id": "itXzLLxrZ_py"
      },
      "source": [
        "with torch.no_grad():\n",
        "  inputs = prepare_sequence(test_data[0][0], word_to_index)\n",
        "  tag_scores = model(inputs)\n",
        "  for id, tag in enumerate(tag_scores):\n",
        "    index = tag.argmax()\n",
        "    print(f'Predicted tag:{index_to_tag[index.item()]}')\n",
        "    print(f'Real tag:{test_data[0][1][id]}')"
      ],
      "execution_count": null,
      "outputs": []
    },
    {
      "cell_type": "code",
      "metadata": {
        "id": "Wpf6lDZpdzO8"
      },
      "source": [
        "test_data[0][1][0]"
      ],
      "execution_count": null,
      "outputs": []
    },
    {
      "cell_type": "code",
      "metadata": {
        "id": "g6qQxC9yeGeg",
        "colab": {
          "base_uri": "https://localhost:8080/"
        },
        "outputId": "9ea57f64-1d96-4d70-c410-791e0831d115"
      },
      "source": [
        ""
      ],
      "execution_count": null,
      "outputs": [
        {
          "output_type": "stream",
          "text": [
            "tensor(6)\n",
            "tensor(0)\n",
            "tensor(7)\n",
            "tensor(24)\n",
            "tensor(0)\n",
            "tensor(3)\n",
            "tensor(14)\n",
            "tensor(12)\n",
            "tensor(14)\n",
            "tensor(16)\n",
            "tensor(1)\n",
            "tensor(1)\n",
            "tensor(7)\n",
            "tensor(8)\n",
            "tensor(7)\n",
            "tensor(2)\n",
            "tensor(11)\n",
            "tensor(7)\n",
            "tensor(0)\n",
            "tensor(6)\n",
            "tensor(6)\n",
            "tensor(7)\n",
            "tensor(13)\n",
            "tensor(20)\n",
            "tensor(8)\n",
            "tensor(2)\n",
            "tensor(8)\n",
            "tensor(0)\n",
            "tensor(10)\n",
            "tensor(6)\n",
            "tensor(9)\n",
            "tensor(13)\n",
            "tensor(8)\n",
            "tensor(6)\n",
            "tensor(0)\n",
            "tensor(8)\n",
            "tensor(2)\n"
          ],
          "name": "stdout"
        }
      ]
    },
    {
      "cell_type": "code",
      "metadata": {
        "colab": {
          "base_uri": "https://localhost:8080/"
        },
        "id": "zlKPCjzI1j8b",
        "outputId": "76ebfcc1-0653-41c5-e108-67cd53da291e"
      },
      "source": [
        "len(test_data[0][0])"
      ],
      "execution_count": null,
      "outputs": [
        {
          "output_type": "execute_result",
          "data": {
            "text/plain": [
              "37"
            ]
          },
          "metadata": {
            "tags": []
          },
          "execution_count": 23
        }
      ]
    },
    {
      "cell_type": "code",
      "metadata": {
        "id": "zStdw3MY1rY9"
      },
      "source": [
        ""
      ],
      "execution_count": null,
      "outputs": []
    }
  ]
}