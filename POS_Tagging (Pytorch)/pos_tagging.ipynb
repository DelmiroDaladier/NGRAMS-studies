{
  "nbformat": 4,
  "nbformat_minor": 0,
  "metadata": {
    "colab": {
      "name": "pos_tagging.ipynb",
      "provenance": [],
      "collapsed_sections": [],
      "authorship_tag": "ABX9TyN9AzSSNVfLl+N4+P6E/n+6",
      "include_colab_link": true
    },
    "kernelspec": {
      "name": "python3",
      "display_name": "Python 3"
    }
  },
  "cells": [
    {
      "cell_type": "markdown",
      "metadata": {
        "id": "view-in-github",
        "colab_type": "text"
      },
      "source": [
        "<a href=\"https://colab.research.google.com/github/DelmiroDaladier/NLP-studies/blob/master/POS_Tagging%20(Pytorch)/pos_tagging.ipynb\" target=\"_parent\"><img src=\"https://colab.research.google.com/assets/colab-badge.svg\" alt=\"Open In Colab\"/></a>"
      ]
    },
    {
      "cell_type": "code",
      "metadata": {
        "id": "YkKSMwR50E2f",
        "colab": {
          "base_uri": "https://localhost:8080/"
        },
        "outputId": "7d120b44-3122-445c-f561-37998e1dc1f5"
      },
      "source": [
        "import pandas as pd\n",
        "\n",
        "import nltk\n",
        "import string\n",
        "from nltk.corpus import brown\n",
        "from nltk.corpus import treebank\n",
        "from nltk.corpus import conll2000\n",
        "\n",
        "import torch\n",
        "import torch.nn as nn\n",
        "import torch.nn.functional as F\n",
        "import torch.optim as optim\n",
        "\n",
        "torch.manual_seed(1)"
      ],
      "execution_count": 1,
      "outputs": [
        {
          "output_type": "execute_result",
          "data": {
            "text/plain": [
              "<torch._C.Generator at 0x7f1a82f10f60>"
            ]
          },
          "metadata": {
            "tags": []
          },
          "execution_count": 1
        }
      ]
    },
    {
      "cell_type": "code",
      "metadata": {
        "colab": {
          "base_uri": "https://localhost:8080/"
        },
        "id": "0NRjOpB3Rapp",
        "outputId": "b8c73d87-af1a-4741-eedb-f0ebe01d642d"
      },
      "source": [
        "nltk.download('treebank')"
      ],
      "execution_count": 2,
      "outputs": [
        {
          "output_type": "stream",
          "text": [
            "[nltk_data] Downloading package treebank to /root/nltk_data...\n",
            "[nltk_data]   Unzipping corpora/treebank.zip.\n"
          ],
          "name": "stdout"
        },
        {
          "output_type": "execute_result",
          "data": {
            "text/plain": [
              "True"
            ]
          },
          "metadata": {
            "tags": []
          },
          "execution_count": 2
        }
      ]
    },
    {
      "cell_type": "code",
      "metadata": {
        "id": "W25o0tqML9iI"
      },
      "source": [
        "def prepare_sequence(seq, to_ix):\n",
        "    idxs = [to_ix[w] for w in seq]\n",
        "    return torch.tensor(idxs, dtype=torch.long)"
      ],
      "execution_count": 3,
      "outputs": []
    },
    {
      "cell_type": "code",
      "metadata": {
        "id": "kwmoXZtp0IC1"
      },
      "source": [
        "word_to_index = {}\n",
        "tag_to_index = {}\n",
        "index_to_tag = {}\n",
        "tagged_sentences = treebank.tagged_sents()\n",
        "punctuation = string.punctuation\n",
        "\n",
        "for sentence in tagged_sentences:\n",
        "  for word, tag in sentence:\n",
        "    if word not in word_to_index and  word not in punctuation:\n",
        "      word_to_index[word] = len(word_to_index)\n",
        "    if tag not in tag_to_index and tag not in punctuation:\n",
        "      tag_to_index[tag] = len(tag_to_index)\n",
        "      index_to_tag[len(tag_to_index)-1] = tag"
      ],
      "execution_count": 9,
      "outputs": []
    },
    {
      "cell_type": "code",
      "metadata": {
        "id": "8L6vTNmyOdQv"
      },
      "source": [
        "data = []\n",
        "for sentence in tagged_sentences:\n",
        "  sentence_words = []\n",
        "  sentence_tags = []\n",
        "  for word, tag in sentence:\n",
        "    if word in word_to_index and tag in tag_to_index:\n",
        "      sentence_words.append(word)\n",
        "      sentence_tags.append(tag)\n",
        "  data.append((sentence_words, sentence_tags))"
      ],
      "execution_count": 5,
      "outputs": []
    },
    {
      "cell_type": "code",
      "metadata": {
        "id": "Gxuec_13Rpjp"
      },
      "source": [
        "train_data = data[0:2000]\n",
        "train_data = [pair for pair in train_data if len(pair[0]) > 0 and len(pair[1]) > 0  ]\n",
        "\n",
        "test_data = data[2000:]\n",
        "test_data = [pair for pair in test_data if len(pair[0]) > 0 and len(pair[1]) > 0  ]"
      ],
      "execution_count": 6,
      "outputs": []
    },
    {
      "cell_type": "code",
      "metadata": {
        "id": "Ijd82_NNPwHM"
      },
      "source": [
        "class PosTagger(nn.Module):\n",
        "\n",
        "  def __init__(self, embedding_dim, hidden_dim, vocab_size, target_size):\n",
        "    super(PosTagger, self).__init__()\n",
        "    self.hidden_dim = hidden_dim\n",
        "    self.word_embeddings = nn.Embedding(vocab_size, embedding_dim)\n",
        "    self.lstm = nn.LSTM(embedding_dim, hidden_dim)\n",
        "    self.hidden2tag = nn.Linear(hidden_dim, target_size)\n",
        "\n",
        "  def forward(self, sentence):\n",
        "    embeds = self.word_embeddings(sentence)\n",
        "    lstm_out, _ = self.lstm(embeds.view(len(sentence), 1, -1))\n",
        "    tag_space = self.hidden2tag(lstm_out.view(len(sentence), -1))\n",
        "    tag_scores = F.log_softmax(tag_space, dim=1)\n",
        "    return tag_scores"
      ],
      "execution_count": 7,
      "outputs": []
    },
    {
      "cell_type": "code",
      "metadata": {
        "colab": {
          "base_uri": "https://localhost:8080/"
        },
        "id": "8V3XHnPuQVcy",
        "outputId": "92ffba18-c38d-44e5-89cb-fe81542a8c2e"
      },
      "source": [
        "EMBEDDING_DIM = 6\n",
        "HIDDEN_DIM = 6\n",
        "model = PosTagger(EMBEDDING_DIM, HIDDEN_DIM, len(word_to_index), len(tag_to_index))\n",
        "loss_function = nn.NLLLoss()\n",
        "optimizer = optim.SGD(model.parameters(), lr=0.1)\n",
        "\n",
        "for epoch in range(2000):\n",
        "  print(f'Epoch:{epoch}')\n",
        "  for sentence, tags in train_data:\n",
        "    model.zero_grad()\n",
        "\n",
        "    sentence_in = prepare_sequence(sentence, word_to_index)\n",
        "    targets = prepare_sequence(tags, tag_to_index)\n",
        "\n",
        "    tag_scores = model(sentence_in)\n",
        "\n",
        "    loss = loss_function(tag_scores, targets)\n",
        "    loss.backward()\n",
        "    optimizer.step()\n"
      ],
      "execution_count": null,
      "outputs": [
        {
          "output_type": "stream",
          "text": [
            "Epoch:0\n",
            "Epoch:1\n",
            "Epoch:2\n",
            "Epoch:3\n",
            "Epoch:4\n",
            "Epoch:5\n",
            "Epoch:6\n",
            "Epoch:7\n",
            "Epoch:8\n",
            "Epoch:9\n"
          ],
          "name": "stdout"
        }
      ]
    },
    {
      "cell_type": "code",
      "metadata": {
        "id": "itXzLLxrZ_py"
      },
      "source": [
        "with torch.no_grad():\n",
        "  inputs = prepare_sequence(test_data[0][0], word_to_index)\n",
        "  tag_scores = model(inputs)\n",
        "  for id, tag in enumerate(tag_scores):\n",
        "    index = tag.argmax()\n",
        "    print(f'Predicted tag:{index_to_tag[index.item()]}')\n",
        "    print(f'Real tag:{test_data[0][1][id]}')"
      ],
      "execution_count": null,
      "outputs": []
    },
    {
      "cell_type": "code",
      "metadata": {
        "colab": {
          "base_uri": "https://localhost:8080/",
          "height": 35
        },
        "id": "Wpf6lDZpdzO8",
        "outputId": "36611715-c229-4783-c4af-2fcf398cd6ab"
      },
      "source": [
        "test_data[0][1][0]"
      ],
      "execution_count": 34,
      "outputs": [
        {
          "output_type": "execute_result",
          "data": {
            "application/vnd.google.colaboratory.intrinsic+json": {
              "type": "string"
            },
            "text/plain": [
              "'DT'"
            ]
          },
          "metadata": {
            "tags": []
          },
          "execution_count": 34
        }
      ]
    },
    {
      "cell_type": "code",
      "metadata": {
        "id": "g6qQxC9yeGeg",
        "colab": {
          "base_uri": "https://localhost:8080/"
        },
        "outputId": "9ea57f64-1d96-4d70-c410-791e0831d115"
      },
      "source": [
        ""
      ],
      "execution_count": 26,
      "outputs": [
        {
          "output_type": "stream",
          "text": [
            "tensor(6)\n",
            "tensor(0)\n",
            "tensor(7)\n",
            "tensor(24)\n",
            "tensor(0)\n",
            "tensor(3)\n",
            "tensor(14)\n",
            "tensor(12)\n",
            "tensor(14)\n",
            "tensor(16)\n",
            "tensor(1)\n",
            "tensor(1)\n",
            "tensor(7)\n",
            "tensor(8)\n",
            "tensor(7)\n",
            "tensor(2)\n",
            "tensor(11)\n",
            "tensor(7)\n",
            "tensor(0)\n",
            "tensor(6)\n",
            "tensor(6)\n",
            "tensor(7)\n",
            "tensor(13)\n",
            "tensor(20)\n",
            "tensor(8)\n",
            "tensor(2)\n",
            "tensor(8)\n",
            "tensor(0)\n",
            "tensor(10)\n",
            "tensor(6)\n",
            "tensor(9)\n",
            "tensor(13)\n",
            "tensor(8)\n",
            "tensor(6)\n",
            "tensor(0)\n",
            "tensor(8)\n",
            "tensor(2)\n"
          ],
          "name": "stdout"
        }
      ]
    },
    {
      "cell_type": "code",
      "metadata": {
        "colab": {
          "base_uri": "https://localhost:8080/"
        },
        "id": "zlKPCjzI1j8b",
        "outputId": "76ebfcc1-0653-41c5-e108-67cd53da291e"
      },
      "source": [
        "len(test_data[0][0])"
      ],
      "execution_count": 23,
      "outputs": [
        {
          "output_type": "execute_result",
          "data": {
            "text/plain": [
              "37"
            ]
          },
          "metadata": {
            "tags": []
          },
          "execution_count": 23
        }
      ]
    },
    {
      "cell_type": "code",
      "metadata": {
        "id": "zStdw3MY1rY9"
      },
      "source": [
        ""
      ],
      "execution_count": null,
      "outputs": []
    }
  ]
}