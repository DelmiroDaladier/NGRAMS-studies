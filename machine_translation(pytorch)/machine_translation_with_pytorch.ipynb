{
  "nbformat": 4,
  "nbformat_minor": 0,
  "metadata": {
    "colab": {
      "name": "machine_translation_with_pytorch.ipynb",
      "provenance": [],
      "collapsed_sections": [],
      "authorship_tag": "ABX9TyOdwqWPn5Ndhl2DlJyxG9XW",
      "include_colab_link": true
    },
    "kernelspec": {
      "name": "python3",
      "display_name": "Python 3"
    }
  },
  "cells": [
    {
      "cell_type": "markdown",
      "metadata": {
        "id": "view-in-github",
        "colab_type": "text"
      },
      "source": [
        "<a href=\"https://colab.research.google.com/github/DelmiroDaladier/NLP-studies/blob/master/machine_translation(pytorch)/machine_translation_with_pytorch.ipynb\" target=\"_parent\"><img src=\"https://colab.research.google.com/assets/colab-badge.svg\" alt=\"Open In Colab\"/></a>"
      ]
    },
    {
      "cell_type": "code",
      "metadata": {
        "id": "emTz7esMKOCI"
      },
      "source": [
        "from __future__ import unicode_literals, print_function, division\n",
        "from io import open\n",
        "import unicodedata\n",
        "import string\n",
        "import re\n",
        "import random\n",
        "\n",
        "import torch\n",
        "import torch.nn as nn\n",
        "from torch import optim\n",
        "import torch.nn.functional as F\n",
        "\n",
        "device = torch.device(\"cuda\" if torch.cuda.is_available() else \"cpu\")"
      ],
      "execution_count": 38,
      "outputs": []
    },
    {
      "cell_type": "code",
      "metadata": {
        "id": "JcBenaH8KcrS"
      },
      "source": [
        "SOS = 0\n",
        "EOS = 1\n",
        "MAX_LEN = 10\n",
        "\n",
        "\n",
        "input_word_to_index = {}\n",
        "input_index_to_word = {0: \"SOS\", 1: \"EOS\"}\n",
        "\n",
        "target_word_to_index = {}\n",
        "target_index_to_word = {0: \"SOS\", 1: \"EOS\"}"
      ],
      "execution_count": 39,
      "outputs": []
    },
    {
      "cell_type": "code",
      "metadata": {
        "id": "n3_-GcpRKxWZ"
      },
      "source": [
        "def unicode_to_ascii(s):\n",
        "  return ''.join(\n",
        "      c for c in unicodedata.normalize('NFD', s)\n",
        "      if unicodedata.category(c) != 'Mn'\n",
        "  )\n",
        "\n",
        "def normalize_string(s):\n",
        "    s = unicode_to_ascii(s.lower().strip())\n",
        "    s = re.sub(r\"([.!?])\", r\" \\1\", s)\n",
        "    s = re.sub(r\"[^a-zA-Z.!?]+\", r\" \", s)\n",
        "    return s"
      ],
      "execution_count": 40,
      "outputs": []
    },
    {
      "cell_type": "code",
      "metadata": {
        "id": "jmBPDEL6Kzfe"
      },
      "source": [
        "lines = open(f'data/por.txt', encoding='utf-8').read().strip().split('\\n')\n",
        "en = [normalize_string(sentence.split('\\t')[0]) for sentence in lines]\n",
        "pt = [normalize_string(sentence.split('\\t')[1]) for sentence in lines]\n"
      ],
      "execution_count": 41,
      "outputs": []
    },
    {
      "cell_type": "code",
      "metadata": {
        "id": "pGVZ8TK9K6OB"
      },
      "source": [
        "filtered_pairs = [(sentence[0].strip(), sentence[1].strip()) for sentence in zip(en, pt) if len(sentence[0].split(' ')) < MAX_LEN and len(sentence[1].split(' ')) < MAX_LEN]"
      ],
      "execution_count": 42,
      "outputs": []
    },
    {
      "cell_type": "code",
      "metadata": {
        "id": "FOBQ6w8PLPli"
      },
      "source": [
        "input_vocab = 2\n",
        "target_vocab = 2\n",
        "\n",
        "for pair in filtered_pairs:\n",
        "  for word in pair[0].split(' '):\n",
        "    if word not in input_word_to_index:\n",
        "      input_word_to_index[word] = input_vocab\n",
        "      input_index_to_word[input_vocab] = word\n",
        "      input_vocab += 1  \n",
        "\n",
        "for pair in filtered_pairs:\n",
        "  for word in pair[1].split(' '):\n",
        "    if word not in target_word_to_index:\n",
        "      target_word_to_index[word] = target_vocab\n",
        "      target_index_to_word[target_vocab] = word\n",
        "      target_vocab += 1  \n"
      ],
      "execution_count": 43,
      "outputs": []
    },
    {
      "cell_type": "code",
      "metadata": {
        "id": "oPNXOiOqPJv8"
      },
      "source": [
        "input_vocab = len(input_word_to_index)\n",
        "target_vocab = len(target_word_to_index)"
      ],
      "execution_count": 7,
      "outputs": []
    },
    {
      "cell_type": "code",
      "metadata": {
        "id": "wVj_AKffj85w"
      },
      "source": [
        "def sentence_to_tensor(sentence: str, word_to_index: dict):\n",
        "  indexes = [word_to_index[word] for word in sentence.split(' ')]\n",
        "  indexes.append(EOS)\n",
        "  tensors = torch.tensor(indexes, dtype=torch.long, device=device).view(-1, 1)\n",
        "  return tensors"
      ],
      "execution_count": 58,
      "outputs": []
    },
    {
      "cell_type": "code",
      "metadata": {
        "id": "4oAm4vcgRSOQ"
      },
      "source": [
        "class EncoderRNN(nn.Module):\n",
        "  def __init__(self, input_size, hidden_size):\n",
        "    super(EncoderRNN, self).__init__()\n",
        "    self.hidden_size = hidden_size\n",
        "\n",
        "    self.embedding = nn.Embedding(input_size, hidden_size)\n",
        "    self.gru = nn.GRU(hidden_size, hidden_size)\n",
        "  \n",
        "  def forward(self, input, hidden):\n",
        "    embedded = self.embedding(input).view(1, 1, -1)\n",
        "    output = embedded\n",
        "    output, hidden = self.gru(output, hidden)\n",
        "    return output, hidden\n",
        "\n",
        "  def init_hidden():\n",
        "    return torch.zeros(1, 1, self.hidden_size, device=device)"
      ],
      "execution_count": 9,
      "outputs": []
    },
    {
      "cell_type": "code",
      "metadata": {
        "id": "JuVNe4HgUkA7"
      },
      "source": [
        "class AttnDecoderRNN(nn.Module):\n",
        "  def __init__(self, hidden_size, output_size, dropout_p=0.1, max_length=MAX_LEN):\n",
        "    super(AttnDecoderRNN, self).__init__()\n",
        "    self.hidden_size = hidden_size\n",
        "    self.output_size = output_size\n",
        "    self.dropout_p = dropout_p\n",
        "    self.max_length = max_length\n",
        "\n",
        "    self.embedding = nn.Embedding(self.output_size, self.hidden_size)\n",
        "    self.attn = nn.Linear(self.hidden_size * 2, self.max_length)\n",
        "    self.attn_combine = nn.Linear(self.hidden_size * 2, self.hidden_size)\n",
        "    self.dropout = nn.Dropout(self.dropout_p)\n",
        "    self.gru = nn.GRU(self.hidden_size, self.hidden_size)\n",
        "    self.out = nn.Linear(self.hidden_size, self.output_size)\n",
        "\n",
        "  def forward(self, input, hidden, encoder_outputs):\n",
        "    embedded = self.embedding(input).view(1, 1, -1)\n",
        "    embedded = self.dropout(embedded)\n",
        "\n",
        "    attn_weights = F.softmax(\n",
        "        self.attn(torch.cat((embedded[0], hidden[0]), 1)), dim=1)\n",
        "    attn_applied = torch.bmm(attn_weights.unsqueeze(0),\n",
        "                             encoder_outputs.unsqueeze(0))\n",
        "    \n",
        "    output = torch.cat((embedded[0], attn_applied[0]), 1)\n",
        "    output = self.attn_combine(output).unsqueeze(0)\n",
        "\n",
        "    output = F.relu(output)\n",
        "    output, hidden = self.gru(output, hidden)\n",
        "\n",
        "    output = F.log_softmax(self.out(output[0]), dim=1)\n",
        "    return output, hidden, attn_weights"
      ],
      "execution_count": 13,
      "outputs": []
    },
    {
      "cell_type": "code",
      "metadata": {
        "id": "jplcrTvugsEe"
      },
      "source": [
        ""
      ],
      "execution_count": 59,
      "outputs": []
    },
    {
      "cell_type": "code",
      "metadata": {
        "colab": {
          "base_uri": "https://localhost:8080/"
        },
        "id": "osHiiDWKlq1N",
        "outputId": "dac8432c-e3ff-4d69-a69c-a1fb750cd3ea"
      },
      "source": [
        "input_word_to_index['go']"
      ],
      "execution_count": 50,
      "outputs": [
        {
          "output_type": "execute_result",
          "data": {
            "text/plain": [
              "2"
            ]
          },
          "metadata": {
            "tags": []
          },
          "execution_count": 50
        }
      ]
    },
    {
      "cell_type": "code",
      "metadata": {
        "id": "YRa07Vuwm7hH"
      },
      "source": [
        ""
      ],
      "execution_count": null,
      "outputs": []
    }
  ]
}